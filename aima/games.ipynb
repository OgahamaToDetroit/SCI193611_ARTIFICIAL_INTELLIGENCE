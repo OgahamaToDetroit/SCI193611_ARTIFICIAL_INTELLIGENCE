{
 "cells": [
  {
   "cell_type": "markdown",
   "metadata": {},
   "source": [
    "# เกม หรือ การค้นหาแบบมีคู่ต่อสู้ (GAMES OR ADVERSARIAL SEARCH)\n",
    "\n",
    "โน้ตบุ๊คนี้ใช้เป็นเนื้อหาสนับสนุนสำหรับหัวข้อที่ครอบคลุมใน **บทที่ 5 - การค้นหาแบบมีคู่ต่อสู้** ในหนังสือ *Artificial Intelligence: A Modern Approach.* โน้ตบุ๊คนี้ใช้การดำเนินงานจากโมดูล [games.py](https://github.com/aimacode/aima-python/blob/master/games.py) มาเรียกใช้ class, method, ตัวแปรสากล ฯลฯ ที่ต้องการจากโมดูล games"
   ]
  },
  {
   "cell_type": "markdown",
   "metadata": {},
   "source": [
    "# สารบัญ (CONTENTS)\n",
    "\n",
    "* การแทนค่าเกม (Game Representation)\n",
    "* ตัวอย่างเกม (Game Examples)\n",
    "    * Tic-Tac-Toe\n",
    "    * เกมรูปที่ 5.2 (Figure 5.2 Game)\n",
    "* Min-Max\n",
    "* Alpha-Beta\n",
    "* ผู้เล่น (Players)\n",
    "* มาเล่นเกมกัน! (Let's Play Some Games!)"
   ]
  },
  {
   "cell_type": "code",
   "execution_count": 1,
   "metadata": {},
   "outputs": [],
   "source": [
    "from games import *\n",
    "from notebook import psource, pseudocode"
   ]
  },
  {
   "cell_type": "markdown",
   "metadata": {},
   "source": [
    "# การแทนค่าเกม (GAME REPRESENTATION)\n",
    "\n",
    "ในการแทนค่าเกม เราจะใช้ class `Game` ซึ่งเราสามารถสร้าง subclass และเขียนฟังก์ชันของมันใหม่เพื่อแทนค่าเกมของเราเอง เครื่องมือช่วยคือ namedtuple `GameState` ซึ่งในบางกรณีจะมีประโยชน์มาก โดยเฉพาะเมื่อเกมของเราต้องการให้เราจำกระดาน (เช่น หมากรุก)"
   ]
  },
  {
   "cell_type": "markdown",
   "metadata": {},
   "source": [
    "## namedtuple `GameState`\n",
    "\n",
    "`GameState` เป็น [namedtuple](https://docs.python.org/3.5/library/collections.html#collections.namedtuple) ที่แทนค่าสถานะปัจจุบันของเกม มันถูกใช้เพื่อช่วยแทนค่าเกมที่มีสถานะไม่สามารถแทนค่าได้ง่ายๆ แบบปกติ หรือสำหรับเกมที่ต้องการความจำของกระดาน เช่น Tic-Tac-Toe\n",
    "\n",
    "`Gamestate` ถูกกำหนดดังนี้:\n",
    "\n",
    "`GameState = namedtuple('GameState', 'to_move, utility, board, moves')`\n",
    "\n",
    "* `to_move`: แทนค่าคิวของใครที่จะเดินต่อไป\n",
    "\n",
    "* `utility`: เก็บค่าประโยชน์ของสถานะเกม การเก็บค่าประโยชน์นี้เป็นไอเดียที่ดี เพราะเมื่อคุณทำ Minimax Search หรือ Alphabeta Search คุณจะสร้างการเรียกซ้ำหลายครั้ง ซึ่งจะเดินทางไปจนถึงสถานะสิ้นสุด เมื่อการเรียกซ้ำเหล่านี้กลับขึ้นไปยังผู้เรียกเดิม เราได้คำนวณค่าประโยชน์สำหรับสถานะเกมหลายสถานะแล้ว เราจึงเก็บค่าประโยชน์เหล่านี้ใน `GameState` ที่เกี่ยวข้องเพื่อหลีกเลี่ยงการคำนวณซ้ำทั้งหมดอีกครั้ง\n",
    "\n",
    "* `board`: dict ที่เก็บกระดานของเกม\n",
    "\n",
    "* `moves`: เก็บรายการของการเดินที่ถูกกฎหมายที่เป็นไปได้จากตำแหน่งปัจจุบัน"
   ]
  },
  {
   "cell_type": "markdown",
   "metadata": {
    "collapsed": true
   },
   "source": [
    "## class `Game`\n",
    "\n",
    "มาดู class `Game` ในโมดูลของเราเรา เราจะเห็นว่ามันมีฟังก์ชัน ได้แก่ `actions`, `result`, `utility`, `terminal_test`, `to_move` และ `display`\n",
    "\n",
    "เราจะเห็นว่าฟังก์ชันเหล่านี้ยังไม่ได้ถูกดำเนินการจริง class นี้เป็นเพียง template class เรากำลังจะสร้าง class สำหรับเกมของเรา โดยการสืบทอด class `Game` นี้และการดำเนินการ method ทั้งหมดที่กล่าวถึงใน `Game`"
   ]
  },
  {
   "cell_type": "code",
   "execution_count": 2,
   "metadata": {
    "collapsed": true
   },
   "outputs": [],
   "source": [
    "%psource Game"
   ]
  },
  {
   "cell_type": "markdown",
   "metadata": {},
   "source": [
    "ตอนนี้มาดูรายละเอียดของ method ทั้งหมดใน class `Game` ของเรา คุณต้องดำเนินการ method เหล่านี้เมื่อคุณสร้าง class ใหม่ที่จะแทนค่าเกมของคุณ\n",
    "\n",
    "* `actions(self, state)`: เมื่อได้รับสถานะเกม method นี้จะสร้างการกระทำที่ถูกกฎหมายทั้งหมดที่เป็นไปได้จากสถานะนี้ เป็น list หรือ generator การส่งคืน generator แทน list มีข้อดีคือประหยัดพื้นที่และคุณยังสามารถดำเนินการกับมันเหมือน list\n",
    "\n",
    "\n",
    "* `result(self, state, move)`: เมื่อได้รับสถานะเกมและการเดิน method นี้จะส่งคืนสถานะเกมที่คุณได้จากการเดินในสถานะเกมนี้\n",
    "\n",
    "\n",
    "* `utility(self, state, player)`: เมื่อได้รับสถานะเกมสิ้นสุดและผู้เล่น method นี้จะส่งคืนค่าประโยชน์สำหรับผู้เล่นนั้นในสถานะเกมสิ้นสุดที่กำหนด ขณะที่ดำเนินการ method นี้ ให้สมมติว่าสถานะเกมเป็นสถานะเกมสิ้นสุด ตรรกะในโมดูลนี้เป็นเช่นนั้น method นี้จะถูกเรียกเฉพาะในสถานะเกมสิ้นสุด\n",
    "\n",
    "\n",
    "* `terminal_test(self, state)`: เมื่อได้รับสถานะเกม method นี้ควรส่งคืน `True` ถ้าสถานะเกมนี้เป็นสถานะสิ้นสุด และ `False` ในกรณีอื่น\n",
    "\n",
    "\n",
    "* `to_move(self, state)`: เมื่อได้รับสถานะเกม method นี้จะส่งคืนผู้เล่นที่จะเล่นต่อไป ข้อมูลนี้มักจะถูกเก็บไว้ในสถานะเกม ดังนั้น method นี้ทำหน้าที่เพียงแยกข้อมูลนี้และส่งคืน\n",
    "\n",
    "\n",
    "* `display(self, state)`: method นี้พิมพ์/แสดงสถานะปัจจุบันของเกม"
   ]
  },
  {
   "cell_type": "markdown",
   "metadata": {},
   "source": [
    "# ตัวอย่างเกม (GAME EXAMPLES)\n",
    "\n",
    "ด้านล่างเราจะให้ตัวอย่างสำหรับเกมที่คุณสามารถสร้างและทดลองใช้งานได้"
   ]
  },
  {
   "cell_type": "markdown",
   "metadata": {},
   "source": [
    "## Tic-Tac-Toe\n",
    "\n",
    "ดู class `TicTacToe` method ทั้งหมดที่กล่าวถึงใน class `Game` ได้ถูกดำเนินการที่นี่"
   ]
  },
  {
   "cell_type": "code",
   "execution_count": 3,
   "metadata": {
    "collapsed": true
   },
   "outputs": [],
   "source": [
    "%psource TicTacToe"
   ]
  },
  {
   "cell_type": "markdown",
   "metadata": {},
   "source": [
    "class `TicTacToe` ได้รับการสืบทอดมาจาก class `Game` ดังที่กล่าวไว้ก่อนหน้า คุณจริงๆ อยากจะทำแบบนี้ การตรวจจับบั๊กและข้อผิดพลาดจะง่ายขึ้นมาก\n",
    "\n",
    "method เพิ่มเติมใน TicTacToe:\n",
    "\n",
    "* `__init__(self, h=3, v=3, k=3)`: เมื่อคุณสร้าง class ที่สืบทอดมาจาก class `Game` (class `TicTacToe` ในกรณีของเรา) คุณจะต้องสร้าง object ของ class ที่สืบทอดนี้เพื่อเริ่มต้นเกม การเริ่มต้นนี้อาจต้องการข้อมูลเพิ่มเติมบางอย่างที่จะถูกส่งไปยัง `__init__` เป็นตัวแปร สำหรับกรณีของเกม `TicTacToe` ของเรา ข้อมูลเพิ่มเติมนี้จะเป็นจำนวนแถว `h` จำนวนคอลัมน์ `v` และจำนวน X หรือ O ที่ต่อเนื่องกันในแถว คอลัมน์ หรือแนวทแยงที่ต้องการเพื่อชนะ `k` นอกจากนี้ สถานะเกมเริ่มต้นต้องถูกกำหนดที่นี่ใน `__init__`\n",
    "\n",
    "\n",
    "* `compute_utility(self, board, move, player)`: method ในการคำนวณค่าประโยชน์ของเกม TicTacToe หาก 'X' ชนะด้วยการเดินนี้ method นี้จะส่งคืน 1; หาก 'O' ชนะจะส่งคืน -1; อื่นๆ ส่งคืน 0\n",
    "\n",
    "\n",
    "* `k_in_row(self, board, move, player, delta_x_y)`: method นี้จะส่งคืน `True` หากมีการสร้างเส้นบนกระดาน TicTacToe ด้วยการเดินล่าสุด มิฉะนั้น `False`"
   ]
  },
  {
   "cell_type": "markdown",
   "metadata": {},
   "source": [
    "### TicTacToe GameState\n",
    "\n",
    "ตอนนี้ ก่อนที่เราจะเริ่มดำเนินการเกม `TicTacToe` เราต้องตัดสินใจว่าเราจะแทนค่าสถานะเกมของเราอย่างไร โดยทั่วไป สถานะเกมจะให้ข้อมูลปัจจุบันทั้งหมดเกี่ยวกับเกมในเวลาใดก็ได้ เมื่อคุณได้รับสถานะเกม คุณควรจะสามารถบอกได้ว่าถึงคิวใครต่อไป เกมจะมีลักษณะอย่างไรบนกระดานจริง (หากมี) ฯลฯ สถานะเกมไม่จำเป็นต้องรวมประวัติของเกม หากคุณสามารถเล่นเกมต่อไปได้เมื่อได้รับสถานะเกม การแทนค่าสถานะเกมของคุณก็เป็นที่ยอมรับได้ แม้ว่าเราอาจต้องการรวมข้อมูลทุกประเภทในสถานะเกมของเรา แต่เราไม่อยากใส่ข้อมูลมากเกินไปเข้าไป การปรับเปลี่ยนสถานะเกมนี้เพื่อสร้างสถานะใหม่จะเป็นเรื่องเจ็บปวดจริงๆ\n",
    "\n",
    "ตอนนี้ สำหรับสถานะเกม `TicTacToe` ของเรา การเก็บเฉพาะตำแหน่งของ X และ O ทั้งหมดจะเพียงพอที่จะแทนค่าข้อมูลเกมทั้งหมดในเวลานั้นหรือไม่? มันบอกเราว่าถึงคิวใครต่อไปหรือไม่? การดู X และ O บนกระดานและนับพวกมันน่าจะบอกเราได้ แต่นั่นหมายถึงการคำนวณเพิ่มเติม เพื่อหลีกเลี่ยงสิ่งนี้ เราจะเก็บว่าเป็นคิวของใครที่จะเดินต่อไปในสถานะเกมด้วย\n",
    "\n",
    "คิดเกี่ยวกับสิ่งที่เราทำที่นี่ เราได้ลดการคำนวณพิเศษโดยการเก็บข้อมูลเพิ่มเติมในสถานะเกม ตอนนี้ ข้อมูลนี้อาจจะไม่จำเป็นอย่างยิ่งที่จะบอกเราเกี่ยวกับสถานะของเกม แต่มันช่วยประหยัดเวลาการคำนวณเพิ่มเติม เราจะทำเช่นนี้อีกในภายหลัง"
   ]
  },
  {
   "cell_type": "markdown",
   "metadata": {},
   "source": [
    "ในการเก็บสถานะเกมเราจะใช้ namedtuple `GameState`\n",
    "\n",
    "* `to_move`: string ของตัวอักษรตัวเดียว ไม่ว่าจะเป็น 'X' หรือ 'O'\n",
    "\n",
    "* `utility`: 1 สำหรับชนะ, -1 สำหรับแพ้, 0 ในกรณีอื่น\n",
    "\n",
    "* `board`: ตำแหน่งทั้งหมดของ X และ O บนกระดาน\n",
    "\n",
    "* `moves`: การเดินทั้งหมดที่เป็นไปได้จากสถานะปัจจุบัน โปรดสังเกตที่นี่ว่า การเก็บการเดินเป็น list ดังที่ทำที่นี่ จะเพิ่มความซับซ้อนของพื้นที่ของ Minimax Search จาก `O(m)` เป็น `O(bm)` อ้างอิงถึงส่วน 5.2.1 ของหนังสือ"
   ]
  },
  {
   "cell_type": "markdown",
   "metadata": {},
   "source": [
    "### การแทนค่าการเดินในเกม TicTacToe\n",
    "\n",
    "ตอนนี้ที่เราได้ตัดสินใจแล้วว่าสถานะเกมของเราจะถูกแทนค่าอย่างไร ก็ถึงเวลาตัดสินใจว่าการเดินของเราจะถูกแทนค่าอย่างไร มันง่ายในการใช้การเดินนี้เพื่อปรับเปลี่ยนสถานะเกมปัจจุบันเพื่อสร้างสถานะใหม่\n",
    "\n",
    "สำหรับเกม `TicTacToe` ของเรา เราจะแทนค่าการเดินด้วย tuple เพียงอันเดียว โดยที่องค์ประกอบแรกและที่สองของ tuple จะแทนค่าแถวและคอลัมน์ตามลำดับ ที่การเดินต่อไปจะถูกทำ ว่าจะทำ 'X' หรือ 'O' จะถูกตัดสินโดย `to_move` ใน namedtuple `GameState`"
   ]
  },
  {
   "cell_type": "markdown",
   "metadata": {},
   "source": [
    "## เกมรูปที่ 5.2 (Fig52 Game)\n",
    "\n",
    "สำหรับตัวอย่างที่ง่ายกว่า เราจะแทนค่าเกมใน **รูปที่ 5.2** ของหนังสือ\n",
    "\n",
    "<img src=\"images/fig_5_2.png\" width=\"75%\">\n",
    "\n",
    "สถานะถูกแทนค่าด้วยตัวอักษรพิมพ์ใหญ่ภายในสามเหลี่ยม (เช่น \"A\") ในขณะที่การเดินคือป้ายบนขอบระหว่างสถานะ (เช่น \"a1\") โหนดสิ้นสุดมีค่าประโยชน์ โปรดสังเกตว่าโหนดสิ้นสุดจะถูกตั้งชื่อในตัวอย่างนี้เป็น 'B1', 'B2' และ 'B3' สำหรับโหนดด้านล่าง 'B' และอื่นๆ\n",
    "\n",
    "เราจะสร้างแบบจำลองการเดิน ค่าประโยชน์ และสถานะเริ่มต้นแบบนี้:"
   ]
  },
  {
   "cell_type": "code",
   "execution_count": 5,
   "metadata": {},
   "outputs": [],
   "source": [
    "moves = dict(A=dict(a1='B', a2='C', a3='D'),\n",
    "                 B=dict(b1='B1', b2='B2', b3='B3'),\n",
    "                 C=dict(c1='C1', c2='C2', c3='C3'),\n",
    "                 D=dict(d1='D1', d2='D2', d3='D3'))\n",
    "utils = dict(B1=3, B2=12, B3=8, C1=2, C2=4, C3=6, D1=14, D2=5, D3=2)\n",
    "initial = 'A'"
   ]
  },
  {
   "cell_type": "markdown",
   "metadata": {},
   "source": [
    "ใน `moves` เรามีระบบ dictionary ที่ซ้อนกัน dictionary ภายนอกมี key เป็นสถานะและ value เป็นการเดินที่เป็นไปได้จากสถานะนั้น (เป็น dictionary) dictionary ภายในของการเดินมี key เป็นชื่อการเดินและ value เป็นสถานะถัดไปหลังจากการเดินเสร็จสิ้น\n",
    "\n",
    "ด้านล่างเป็นตัวอย่างที่แสดง `moves` เราต้องการสถานะถัดไปหลังจากการเดิน 'a1' จาก 'A' ซึ่งคือ 'B' การดูภาพข้างบนอย่างรวดเร็วจะยืนยันว่านี่คือกรณีจริง"
   ]
  },
  {
   "cell_type": "code",
   "execution_count": 5,
   "metadata": {},
   "outputs": [
    {
     "name": "stdout",
     "output_type": "stream",
     "text": [
      "B\n"
     ]
    }
   ],
   "source": [
    "print(moves['A']['a1'])"
   ]
  },
  {
   "cell_type": "markdown",
   "metadata": {},
   "source": [
    "ตอนนี้เราจะดูฟังก์ชันที่เราต้องดำเนินการ ก่อนอื่นเราต้องสร้าง object ของ class `Fig52Game`"
   ]
  },
  {
   "cell_type": "code",
   "execution_count": 6,
   "metadata": {
    "collapsed": true
   },
   "outputs": [],
   "source": [
    "fig52 = Fig52Game()"
   ]
  },
  {
   "cell_type": "markdown",
   "metadata": {},
   "source": [
    "`actions`: ส่งคืนรายการการเดินที่สามารถทำได้จากสถานะที่กำหนด"
   ]
  },
  {
   "cell_type": "code",
   "execution_count": null,
   "metadata": {
    "collapsed": true
   },
   "outputs": [],
   "source": [
    "psource(Fig52Game.actions)"
   ]
  },
  {
   "cell_type": "code",
   "execution_count": 8,
   "metadata": {},
   "outputs": [
    {
     "name": "stdout",
     "output_type": "stream",
     "text": [
      "['b1', 'b2', 'b3']\n"
     ]
    }
   ],
   "source": [
    "print(fig52.actions('B'))"
   ]
  },
  {
   "cell_type": "markdown",
   "metadata": {},
   "source": [
    "`result`: ส่งคืนสถานะถัดไปหลังจากที่เราทำการเดินเฉพาะ"
   ]
  },
  {
   "cell_type": "code",
   "execution_count": null,
   "metadata": {
    "collapsed": true
   },
   "outputs": [],
   "source": [
    "psource(Fig52Game.result)"
   ]
  },
  {
   "cell_type": "code",
   "execution_count": 10,
   "metadata": {},
   "outputs": [
    {
     "name": "stdout",
     "output_type": "stream",
     "text": [
      "B\n"
     ]
    }
   ],
   "source": [
    "print(fig52.result('A', 'a1'))"
   ]
  },
  {
   "cell_type": "markdown",
   "metadata": {},
   "source": [
    "`utility`: ส่งคืนค่าของสถานะสิ้นสุดสำหรับผู้เล่น ('MAX' และ 'MIN') โปรดสังเกตว่าสำหรับ 'MIN' ค่าที่ส่งคืนเป็นค่าลบของค่าประโยชน์"
   ]
  },
  {
   "cell_type": "code",
   "execution_count": null,
   "metadata": {
    "collapsed": true
   },
   "outputs": [],
   "source": [
    "psource(Fig52Game.utility)"
   ]
  },
  {
   "cell_type": "code",
   "execution_count": 12,
   "metadata": {},
   "outputs": [
    {
     "name": "stdout",
     "output_type": "stream",
     "text": [
      "3\n",
      "-3\n"
     ]
    }
   ],
   "source": [
    "print(fig52.utility('B1', 'MAX'))\n",
    "print(fig52.utility('B1', 'MIN'))"
   ]
  },
  {
   "cell_type": "markdown",
   "metadata": {},
   "source": [
    "`terminal_test`: ส่งคืน `True` ถ้าสถานะที่กำหนดเป็นสถานะสิ้นสุด มิฉะนั้น `False`"
   ]
  },
  {
   "cell_type": "code",
   "execution_count": null,
   "metadata": {
    "collapsed": true
   },
   "outputs": [],
   "source": [
    "psource(Fig52Game.terminal_test)"
   ]
  },
  {
   "cell_type": "code",
   "execution_count": 14,
   "metadata": {},
   "outputs": [
    {
     "name": "stdout",
     "output_type": "stream",
     "text": [
      "True\n"
     ]
    }
   ],
   "source": [
    "print(fig52.terminal_test('C3'))"
   ]
  },
  {
   "cell_type": "markdown",
   "metadata": {},
   "source": [
    "`to_move`: ส่งคืนผู้เล่นที่จะเดินในสถานะนี้"
   ]
  },
  {
   "cell_type": "code",
   "execution_count": null,
   "metadata": {
    "collapsed": true
   },
   "outputs": [],
   "source": [
    "psource(Fig52Game.to_move)"
   ]
  },
  {
   "cell_type": "code",
   "execution_count": 16,
   "metadata": {},
   "outputs": [
    {
     "name": "stdout",
     "output_type": "stream",
     "text": [
      "MAX\n"
     ]
    }
   ],
   "source": [
    "print(fig52.to_move('A'))"
   ]
  },
  {
   "cell_type": "markdown",
   "metadata": {},
   "source": [
    "โดยรวมแล้ว class `Fig52` ที่สืบทอดมาจาก class `Game` และเขียนฟังก์ชันของมันใหม่:"
   ]
  },
  {
   "cell_type": "code",
   "execution_count": null,
   "metadata": {
    "collapsed": true
   },
   "outputs": [],
   "source": [
    "psource(Fig52Game)"
   ]
  },
  {
   "cell_type": "markdown",
   "metadata": {},
   "source": [
    "# MIN-MAX\n",
    "\n",
    "## ภาพรวม (Overview)\n",
    "\n",
    "อัลกอริทึมนี้ (มักเรียกว่า *Minimax*) คำนวณการเดินต่อไปสำหรับผู้เล่น (MIN หรือ MAX) ในสถานะปัจจุบันของพวกเขา มันคำนวณค่า minimax ของสถานะที่ตามมาแบบเรียกซ้ำ จนกว่าจะถึงสถานะสิ้นสุด (ใบของต้นไม้) โดยใช้ค่า `utility` ของสถานะสิ้นสุด มันคำนวณค่าของสถานะพาเรนต์จนกว่าจะถึงโหนดเริ่มต้น (รากของต้นไม้)\n",
    "\n",
    "เป็นที่น่าสังเกตว่าอัลกอริทึมทำงานแบบ depth-first สามารถดู pseudocode ได้ด้านล่าง:"
   ]
  },
  {
   "cell_type": "code",
   "execution_count": 6,
   "metadata": {},
   "outputs": [
    {
     "data": {
      "text/markdown": [
       "### AIMA3e\n",
       "__function__ MINIMAX-DECISION(_state_) __returns__ _an action_  \n",
       "&emsp;__return__ arg max<sub> _a_ &Element; ACTIONS(_s_)</sub> MIN\\-VALUE(RESULT(_state_, _a_))  \n",
       "\n",
       "---\n",
       "__function__ MAX\\-VALUE(_state_) __returns__ _a utility value_  \n",
       "&emsp;__if__ TERMINAL\\-TEST(_state_) __then return__ UTILITY(_state_)  \n",
       "&emsp;_v_ &larr; &minus;&infin;  \n",
       "&emsp;__for each__ _a_ __in__ ACTIONS(_state_) __do__  \n",
       "&emsp;&emsp;&emsp;_v_ &larr; MAX(_v_, MIN\\-VALUE(RESULT(_state_, _a_)))  \n",
       "&emsp;__return__ _v_  \n",
       "\n",
       "---\n",
       "__function__ MIN\\-VALUE(_state_) __returns__ _a utility value_  \n",
       "&emsp;__if__ TERMINAL\\-TEST(_state_) __then return__ UTILITY(_state_)  \n",
       "&emsp;_v_ &larr; &infin;  \n",
       "&emsp;__for each__ _a_ __in__ ACTIONS(_state_) __do__  \n",
       "&emsp;&emsp;&emsp;_v_ &larr; MIN(_v_, MAX\\-VALUE(RESULT(_state_, _a_)))  \n",
       "&emsp;__return__ _v_  \n",
       "\n",
       "---\n",
       "__Figure__ ?? An algorithm for calculating minimax decisions. It returns the action corresponding to the best possible move, that is, the move that leads to the outcome with the best utility, under the assumption that the opponent plays to minimize utility. The functions MAX\\-VALUE and MIN\\-VALUE go through the whole game tree, all the way to the leaves, to determine the backed\\-up value of a state. The notation argmax <sub>_a_ &Element; _S_</sub> _f_(_a_) computes the element _a_ of set _S_ that has maximum value of _f_(_a_).\n",
       "\n",
       "---\n",
       "__function__ EXPECTIMINIMAX(_s_) =     \n",
       "&emsp;UTILITY(_s_) __if__ TERMINAL\\-TEST(_s_)  \n",
       "&emsp;max<sub>_a_</sub> EXPECTIMINIMAX(RESULT(_s, a_)) __if__ PLAYER(_s_)= MAX  \n",
       "&emsp;min<sub>_a_</sub> EXPECTIMINIMAX(RESULT(_s, a_)) __if__ PLAYER(_s_)= MIN  \n",
       "&emsp;∑<sub>_r_</sub> P(_r_) EXPECTIMINIMAX(RESULT(_s, r_)) __if__ PLAYER(_s_)= CHANCE"
      ],
      "text/plain": [
       "<IPython.core.display.Markdown object>"
      ]
     },
     "execution_count": 6,
     "metadata": {},
     "output_type": "execute_result"
    }
   ],
   "source": [
    "pseudocode(\"Minimax-Decision\")"
   ]
  },
  {
   "cell_type": "markdown",
   "metadata": {},
   "source": [
    "## การดำเนินงาน (Implementation)\n",
    "\n",
    "ในการดำเนินงานเรากำลังใช้สองฟังก์ชัน `max_value` และ `min_value` เพื่อคำนวณการเดินที่ดีที่สุดสำหรับ MAX และ MIN ตามลำดับ ฟังก์ชันเหล่านี้โต้ตอบในการเรียกซ้ำสลับกัน หนึ่งเรียกอีกหนึ่งจนกว่าจะถึงสถานะสิ้นสุด เมื่อการเรียกซ้ำหยุด เราจะเหลือคะแนนสำหรับการเดินแต่ละครั้ง เราส่งคืนค่าสูงสุด แม้ว่าจะส่งคืนค่าสูงสุด มันจะทำงานสำหรับ MIN ด้วย เพราะสำหรับ MIN ค่าเหล่านั้นเป็นค่าลบของพวกมัน (ดังนั้นลำดับของค่าจะกลับด้าน ดังนั้นยิ่งสูงยิ่งดีสำหรับ MIN ด้วย)"
   ]
  },
  {
   "cell_type": "code",
   "execution_count": 7,
   "metadata": {},
   "outputs": [
    {
     "data": {
      "text/html": [
       "<!DOCTYPE html PUBLIC \"-//W3C//DTD HTML 4.01//EN\"\n",
       "   \"http://www.w3.org/TR/html4/strict.dtd\">\n",
       "\n",
       "<html>\n",
       "<head>\n",
       "  <title></title>\n",
       "  <meta http-equiv=\"content-type\" content=\"text/html; charset=None\">\n",
       "  <style type=\"text/css\">\n",
       "td.linenos { background-color: #f0f0f0; padding-right: 10px; }\n",
       "span.lineno { background-color: #f0f0f0; padding: 0 5px 0 5px; }\n",
       "pre { line-height: 125%; }\n",
       "body .hll { background-color: #ffffcc }\n",
       "body  { background: #f8f8f8; }\n",
       "body .c { color: #408080; font-style: italic } /* Comment */\n",
       "body .err { border: 1px solid #FF0000 } /* Error */\n",
       "body .k { color: #008000; font-weight: bold } /* Keyword */\n",
       "body .o { color: #666666 } /* Operator */\n",
       "body .ch { color: #408080; font-style: italic } /* Comment.Hashbang */\n",
       "body .cm { color: #408080; font-style: italic } /* Comment.Multiline */\n",
       "body .cp { color: #BC7A00 } /* Comment.Preproc */\n",
       "body .cpf { color: #408080; font-style: italic } /* Comment.PreprocFile */\n",
       "body .c1 { color: #408080; font-style: italic } /* Comment.Single */\n",
       "body .cs { color: #408080; font-style: italic } /* Comment.Special */\n",
       "body .gd { color: #A00000 } /* Generic.Deleted */\n",
       "body .ge { font-style: italic } /* Generic.Emph */\n",
       "body .gr { color: #FF0000 } /* Generic.Error */\n",
       "body .gh { color: #000080; font-weight: bold } /* Generic.Heading */\n",
       "body .gi { color: #00A000 } /* Generic.Inserted */\n",
       "body .go { color: #888888 } /* Generic.Output */\n",
       "body .gp { color: #000080; font-weight: bold } /* Generic.Prompt */\n",
       "body .gs { font-weight: bold } /* Generic.Strong */\n",
       "body .gu { color: #800080; font-weight: bold } /* Generic.Subheading */\n",
       "body .gt { color: #0044DD } /* Generic.Traceback */\n",
       "body .kc { color: #008000; font-weight: bold } /* Keyword.Constant */\n",
       "body .kd { color: #008000; font-weight: bold } /* Keyword.Declaration */\n",
       "body .kn { color: #008000; font-weight: bold } /* Keyword.Namespace */\n",
       "body .kp { color: #008000 } /* Keyword.Pseudo */\n",
       "body .kr { color: #008000; font-weight: bold } /* Keyword.Reserved */\n",
       "body .kt { color: #B00040 } /* Keyword.Type */\n",
       "body .m { color: #666666 } /* Literal.Number */\n",
       "body .s { color: #BA2121 } /* Literal.String */\n",
       "body .na { color: #7D9029 } /* Name.Attribute */\n",
       "body .nb { color: #008000 } /* Name.Builtin */\n",
       "body .nc { color: #0000FF; font-weight: bold } /* Name.Class */\n",
       "body .no { color: #880000 } /* Name.Constant */\n",
       "body .nd { color: #AA22FF } /* Name.Decorator */\n",
       "body .ni { color: #999999; font-weight: bold } /* Name.Entity */\n",
       "body .ne { color: #D2413A; font-weight: bold } /* Name.Exception */\n",
       "body .nf { color: #0000FF } /* Name.Function */\n",
       "body .nl { color: #A0A000 } /* Name.Label */\n",
       "body .nn { color: #0000FF; font-weight: bold } /* Name.Namespace */\n",
       "body .nt { color: #008000; font-weight: bold } /* Name.Tag */\n",
       "body .nv { color: #19177C } /* Name.Variable */\n",
       "body .ow { color: #AA22FF; font-weight: bold } /* Operator.Word */\n",
       "body .w { color: #bbbbbb } /* Text.Whitespace */\n",
       "body .mb { color: #666666 } /* Literal.Number.Bin */\n",
       "body .mf { color: #666666 } /* Literal.Number.Float */\n",
       "body .mh { color: #666666 } /* Literal.Number.Hex */\n",
       "body .mi { color: #666666 } /* Literal.Number.Integer */\n",
       "body .mo { color: #666666 } /* Literal.Number.Oct */\n",
       "body .sa { color: #BA2121 } /* Literal.String.Affix */\n",
       "body .sb { color: #BA2121 } /* Literal.String.Backtick */\n",
       "body .sc { color: #BA2121 } /* Literal.String.Char */\n",
       "body .dl { color: #BA2121 } /* Literal.String.Delimiter */\n",
       "body .sd { color: #BA2121; font-style: italic } /* Literal.String.Doc */\n",
       "body .s2 { color: #BA2121 } /* Literal.String.Double */\n",
       "body .se { color: #BB6622; font-weight: bold } /* Literal.String.Escape */\n",
       "body .sh { color: #BA2121 } /* Literal.String.Heredoc */\n",
       "body .si { color: #BB6688; font-weight: bold } /* Literal.String.Interpol */\n",
       "body .sx { color: #008000 } /* Literal.String.Other */\n",
       "body .sr { color: #BB6688 } /* Literal.String.Regex */\n",
       "body .s1 { color: #BA2121 } /* Literal.String.Single */\n",
       "body .ss { color: #19177C } /* Literal.String.Symbol */\n",
       "body .bp { color: #008000 } /* Name.Builtin.Pseudo */\n",
       "body .fm { color: #0000FF } /* Name.Function.Magic */\n",
       "body .vc { color: #19177C } /* Name.Variable.Class */\n",
       "body .vg { color: #19177C } /* Name.Variable.Global */\n",
       "body .vi { color: #19177C } /* Name.Variable.Instance */\n",
       "body .vm { color: #19177C } /* Name.Variable.Magic */\n",
       "body .il { color: #666666 } /* Literal.Number.Integer.Long */\n",
       "\n",
       "  </style>\n",
       "</head>\n",
       "<body>\n",
       "<h2></h2>\n",
       "\n",
       "<div class=\"highlight\"><pre><span></span><span class=\"k\">def</span> <span class=\"nf\">minimax_decision</span><span class=\"p\">(</span><span class=\"n\">state</span><span class=\"p\">,</span> <span class=\"n\">game</span><span class=\"p\">):</span>\n",
       "    <span class=\"sd\">&quot;&quot;&quot;Given a state in a game, calculate the best move by searching</span>\n",
       "<span class=\"sd\">    forward all the way to the terminal states. [Figure 5.3]&quot;&quot;&quot;</span>\n",
       "\n",
       "    <span class=\"n\">player</span> <span class=\"o\">=</span> <span class=\"n\">game</span><span class=\"o\">.</span><span class=\"n\">to_move</span><span class=\"p\">(</span><span class=\"n\">state</span><span class=\"p\">)</span>\n",
       "\n",
       "    <span class=\"k\">def</span> <span class=\"nf\">max_value</span><span class=\"p\">(</span><span class=\"n\">state</span><span class=\"p\">):</span>\n",
       "        <span class=\"k\">if</span> <span class=\"n\">game</span><span class=\"o\">.</span><span class=\"n\">terminal_test</span><span class=\"p\">(</span><span class=\"n\">state</span><span class=\"p\">):</span>\n",
       "            <span class=\"k\">return</span> <span class=\"n\">game</span><span class=\"o\">.</span><span class=\"n\">utility</span><span class=\"p\">(</span><span class=\"n\">state</span><span class=\"p\">,</span> <span class=\"n\">player</span><span class=\"p\">)</span>\n",
       "        <span class=\"n\">v</span> <span class=\"o\">=</span> <span class=\"o\">-</span><span class=\"n\">infinity</span>\n",
       "        <span class=\"k\">for</span> <span class=\"n\">a</span> <span class=\"ow\">in</span> <span class=\"n\">game</span><span class=\"o\">.</span><span class=\"n\">actions</span><span class=\"p\">(</span><span class=\"n\">state</span><span class=\"p\">):</span>\n",
       "            <span class=\"n\">v</span> <span class=\"o\">=</span> <span class=\"nb\">max</span><span class=\"p\">(</span><span class=\"n\">v</span><span class=\"p\">,</span> <span class=\"n\">min_value</span><span class=\"p\">(</span><span class=\"n\">game</span><span class=\"o\">.</span><span class=\"n\">result</span><span class=\"p\">(</span><span class=\"n\">state</span><span class=\"p\">,</span> <span class=\"n\">a</span><span class=\"p\">)))</span>\n",
       "        <span class=\"k\">return</span> <span class=\"n\">v</span>\n",
       "\n",
       "    <span class=\"k\">def</span> <span class=\"nf\">min_value</span><span class=\"p\">(</span><span class=\"n\">state</span><span class=\"p\">):</span>\n",
       "        <span class=\"k\">if</span> <span class=\"n\">game</span><span class=\"o\">.</span><span class=\"n\">terminal_test</span><span class=\"p\">(</span><span class=\"n\">state</span><span class=\"p\">):</span>\n",
       "            <span class=\"k\">return</span> <span class=\"n\">game</span><span class=\"o\">.</span><span class=\"n\">utility</span><span class=\"p\">(</span><span class=\"n\">state</span><span class=\"p\">,</span> <span class=\"n\">player</span><span class=\"p\">)</span>\n",
       "        <span class=\"n\">v</span> <span class=\"o\">=</span> <span class=\"n\">infinity</span>\n",
       "        <span class=\"k\">for</span> <span class=\"n\">a</span> <span class=\"ow\">in</span> <span class=\"n\">game</span><span class=\"o\">.</span><span class=\"n\">actions</span><span class=\"p\">(</span><span class=\"n\">state</span><span class=\"p\">):</span>\n",
       "            <span class=\"n\">v</span> <span class=\"o\">=</span> <span class=\"nb\">min</span><span class=\"p\">(</span><span class=\"n\">v</span><span class=\"p\">,</span> <span class=\"n\">max_value</span><span class=\"p\">(</span><span class=\"n\">game</span><span class=\"o\">.</span><span class=\"n\">result</span><span class=\"p\">(</span><span class=\"n\">state</span><span class=\"p\">,</span> <span class=\"n\">a</span><span class=\"p\">)))</span>\n",
       "        <span class=\"k\">return</span> <span class=\"n\">v</span>\n",
       "\n",
       "    <span class=\"c1\"># Body of minimax_decision:</span>\n",
       "    <span class=\"k\">return</span> <span class=\"n\">argmax</span><span class=\"p\">(</span><span class=\"n\">game</span><span class=\"o\">.</span><span class=\"n\">actions</span><span class=\"p\">(</span><span class=\"n\">state</span><span class=\"p\">),</span>\n",
       "                  <span class=\"n\">key</span><span class=\"o\">=</span><span class=\"k\">lambda</span> <span class=\"n\">a</span><span class=\"p\">:</span> <span class=\"n\">min_value</span><span class=\"p\">(</span><span class=\"n\">game</span><span class=\"o\">.</span><span class=\"n\">result</span><span class=\"p\">(</span><span class=\"n\">state</span><span class=\"p\">,</span> <span class=\"n\">a</span><span class=\"p\">)))</span>\n",
       "</pre></div>\n",
       "</body>\n",
       "</html>\n"
      ],
      "text/plain": [
       "<IPython.core.display.HTML object>"
      ]
     },
     "metadata": {},
     "output_type": "display_data"
    }
   ],
   "source": [
    "psource(minimax_decision)"
   ]
  },
  {
   "cell_type": "markdown",
   "metadata": {},
   "source": [
    "## ตัวอย่าง (Example)\n",
    "\n",
    "ตอนนี้เราจะเล่นเกม Fig52 โดยใช้อัลกอริทึมนี้ ดูเกม Fig52Game จากข้างบนเพื่อติดตาม\n",
    "\n",
    "ถึงคิว MAX ที่จะเดิน และเขาอยู่ในสถานะ A เขาสามารถไปยัง B, C หรือ D โดยใช้การเดิน a1, a2 และ a3 ตามลำดับ เป้าหมายของ MAX คือการเพิ่มค่าสุดท้ายให้ได้มากที่สุด ดังนั้น เพื่อตัดสินใจ MAX ต้องการทราบค่าที่โหนดดังกล่าวและเลือกค่าที่มากที่สุด หลังจาก MAX ถึงคิว MIN ที่จะเล่น ดังนั้น MAX ต้องการทราบว่าค่าของ B, C และ D จะเป็นเท่าใดหลังจาก MIN เล่น\n",
    "\n",
    "ปัญหาจะกลายเป็นการเดินใดที่ MIN จะทำที่ B, C และ D สถานะตัวตามของโหนดทั้งหมดเหล่านี้เป็นสถานะสิ้นสุด ดังนั้น MIN จะเลือกค่าที่เล็กที่สุดสำหรับแต่ละโหนด ดังนั้น สำหรับ B เขาจะเลือก 3 (จากการเดิน b1), สำหรับ C เขาจะเลือก 2 (จากการเดิน c1) และสำหรับ D เขาจะเลือก 2 อีกครั้ง (จากการเดิน d3)\n",
    "\n",
    "มาดูในโค้ด:"
   ]
  },
  {
   "cell_type": "code",
   "execution_count": 19,
   "metadata": {},
   "outputs": [
    {
     "name": "stdout",
     "output_type": "stream",
     "text": [
      "b1\n",
      "c1\n",
      "d3\n"
     ]
    }
   ],
   "source": [
    "print(minimax_decision('B', fig52))\n",
    "print(minimax_decision('C', fig52))\n",
    "print(minimax_decision('D', fig52))"
   ]
  },
  {
   "cell_type": "markdown",
   "metadata": {},
   "source": [
    "ตอนนี้ MAX ทราบว่าค่าสำหรับ B, C และ D คือ 3, 2 และ 2 (ผลิตโดยการเดินข้างบนของ MIN) ค่าที่มากที่สุดคือ 3 ซึ่งเขาจะได้ด้วยการเดิน a1 นี่คือการเดินที่ MAX จะทำ มาดูอัลกอริทึมในการกระทำเต็มรูปแบบ:"
   ]
  },
  {
   "cell_type": "code",
   "execution_count": 20,
   "metadata": {},
   "outputs": [
    {
     "name": "stdout",
     "output_type": "stream",
     "text": [
      "a1\n"
     ]
    }
   ],
   "source": [
    "print(minimax_decision('A', fig52))"
   ]
  },
  {
   "cell_type": "markdown",
   "metadata": {},
   "source": [
    "## การแสดงผลด้วยภาพ (Visualization)\n",
    "\n",
    "ด้านล่างเรามีการแสดงผลเกมง่ายๆ โดยใช้อัลกอริทึม หลังจากที่คุณรันคำสั่ง ให้คลิกที่เซลล์เพื่อเดินเกมต่อไป คุณสามารถป้อนค่าของคุณเองผ่านรายการของจำนวนเต็ม 27 ตัว"
   ]
  },
  {
   "cell_type": "code",
   "execution_count": 8,
   "metadata": {},
   "outputs": [],
   "source": [
    "from notebook import Canvas_minimax\n",
    "from random import randint"
   ]
  },
  {
   "cell_type": "code",
   "execution_count": 9,
   "metadata": {},
   "outputs": [
    {
     "data": {
      "text/html": [
       "\n",
       "<script type=\"text/javascript\" src=\"./js/canvas.js\"></script>\n",
       "<div>\n",
       "<canvas id=\"minimax_viz\" width=\"800\" height=\"600\" style=\"background:rgba(158, 167, 184, 0.2);\" onclick='click_callback(this, event, \"minimax_viz\")'></canvas>\n",
       "</div>\n",
       "\n",
       "<script> var minimax_viz_canvas_object = new Canvas(\"minimax_viz\");</script>\n"
      ],
      "text/plain": [
       "<IPython.core.display.HTML object>"
      ]
     },
     "metadata": {},
     "output_type": "display_data"
    },
    {
     "data": {
      "text/html": [
       "<script>\n",
       "minimax_viz_canvas_object.font(\"12px Arial\");\n",
       "minimax_viz_canvas_object.clear();\n",
       "minimax_viz_canvas_object.stroke(0, 0, 0);\n",
       "minimax_viz_canvas_object.strokeWidth(1);\n",
       "minimax_viz_canvas_object.fill(200, 200, 200);\n",
       "minimax_viz_canvas_object.rect(390, 8, 20, 15);\n",
       "minimax_viz_canvas_object.line(390, 8, 410, 8);\n",
       "minimax_viz_canvas_object.line(390, 8, 390, 23);\n",
       "minimax_viz_canvas_object.line(410, 23, 410, 8);\n",
       "minimax_viz_canvas_object.line(410, 23, 390, 23);\n",
       "minimax_viz_canvas_object.fill(0, 0, 0);\n",
       "minimax_viz_canvas_object.fill(200, 200, 200);\n",
       "minimax_viz_canvas_object.rect(123, 198, 20, 15);\n",
       "minimax_viz_canvas_object.line(123, 198, 143, 198);\n",
       "minimax_viz_canvas_object.line(123, 198, 123, 213);\n",
       "minimax_viz_canvas_object.line(143, 213, 143, 198);\n",
       "minimax_viz_canvas_object.line(143, 213, 123, 213);\n",
       "minimax_viz_canvas_object.fill(0, 0, 0);\n",
       "minimax_viz_canvas_object.fill(200, 200, 200);\n",
       "minimax_viz_canvas_object.rect(390, 198, 20, 15);\n",
       "minimax_viz_canvas_object.line(390, 198, 410, 198);\n",
       "minimax_viz_canvas_object.line(390, 198, 390, 213);\n",
       "minimax_viz_canvas_object.line(410, 213, 410, 198);\n",
       "minimax_viz_canvas_object.line(410, 213, 390, 213);\n",
       "minimax_viz_canvas_object.fill(0, 0, 0);\n",
       "minimax_viz_canvas_object.fill(200, 200, 200);\n",
       "minimax_viz_canvas_object.rect(657, 198, 20, 15);\n",
       "minimax_viz_canvas_object.line(657, 198, 677, 198);\n",
       "minimax_viz_canvas_object.line(657, 198, 657, 213);\n",
       "minimax_viz_canvas_object.line(677, 213, 677, 198);\n",
       "minimax_viz_canvas_object.line(677, 213, 657, 213);\n",
       "minimax_viz_canvas_object.fill(0, 0, 0);\n",
       "minimax_viz_canvas_object.fill(200, 200, 200);\n",
       "minimax_viz_canvas_object.rect(34, 388, 20, 15);\n",
       "minimax_viz_canvas_object.line(34, 388, 54, 388);\n",
       "minimax_viz_canvas_object.line(34, 388, 34, 403);\n",
       "minimax_viz_canvas_object.line(54, 403, 54, 388);\n",
       "minimax_viz_canvas_object.line(54, 403, 34, 403);\n",
       "minimax_viz_canvas_object.fill(0, 0, 0);\n",
       "minimax_viz_canvas_object.fill(200, 200, 200);\n",
       "minimax_viz_canvas_object.rect(123, 388, 20, 15);\n",
       "minimax_viz_canvas_object.line(123, 388, 143, 388);\n",
       "minimax_viz_canvas_object.line(123, 388, 123, 403);\n",
       "minimax_viz_canvas_object.line(143, 403, 143, 388);\n",
       "minimax_viz_canvas_object.line(143, 403, 123, 403);\n",
       "minimax_viz_canvas_object.fill(0, 0, 0);\n",
       "minimax_viz_canvas_object.fill(200, 200, 200);\n",
       "minimax_viz_canvas_object.rect(212, 388, 20, 15);\n",
       "minimax_viz_canvas_object.line(212, 388, 232, 388);\n",
       "minimax_viz_canvas_object.line(212, 388, 212, 403);\n",
       "minimax_viz_canvas_object.line(232, 403, 232, 388);\n",
       "minimax_viz_canvas_object.line(232, 403, 212, 403);\n",
       "minimax_viz_canvas_object.fill(0, 0, 0);\n",
       "minimax_viz_canvas_object.fill(200, 200, 200);\n",
       "minimax_viz_canvas_object.rect(301, 388, 20, 15);\n",
       "minimax_viz_canvas_object.line(301, 388, 321, 388);\n",
       "minimax_viz_canvas_object.line(301, 388, 301, 403);\n",
       "minimax_viz_canvas_object.line(321, 403, 321, 388);\n",
       "minimax_viz_canvas_object.line(321, 403, 301, 403);\n",
       "minimax_viz_canvas_object.fill(0, 0, 0);\n",
       "minimax_viz_canvas_object.fill(200, 200, 200);\n",
       "minimax_viz_canvas_object.rect(390, 388, 20, 15);\n",
       "minimax_viz_canvas_object.line(390, 388, 410, 388);\n",
       "minimax_viz_canvas_object.line(390, 388, 390, 403);\n",
       "minimax_viz_canvas_object.line(410, 403, 410, 388);\n",
       "minimax_viz_canvas_object.line(410, 403, 390, 403);\n",
       "minimax_viz_canvas_object.fill(0, 0, 0);\n",
       "minimax_viz_canvas_object.fill(200, 200, 200);\n",
       "minimax_viz_canvas_object.rect(479, 388, 20, 15);\n",
       "minimax_viz_canvas_object.line(479, 388, 499, 388);\n",
       "minimax_viz_canvas_object.line(479, 388, 479, 403);\n",
       "minimax_viz_canvas_object.line(499, 403, 499, 388);\n",
       "minimax_viz_canvas_object.line(499, 403, 479, 403);\n",
       "minimax_viz_canvas_object.fill(0, 0, 0);\n",
       "minimax_viz_canvas_object.fill(200, 200, 200);\n",
       "minimax_viz_canvas_object.rect(568, 388, 20, 15);\n",
       "minimax_viz_canvas_object.line(568, 388, 588, 388);\n",
       "minimax_viz_canvas_object.line(568, 388, 568, 403);\n",
       "minimax_viz_canvas_object.line(588, 403, 588, 388);\n",
       "minimax_viz_canvas_object.line(588, 403, 568, 403);\n",
       "minimax_viz_canvas_object.fill(0, 0, 0);\n",
       "minimax_viz_canvas_object.fill(200, 200, 200);\n",
       "minimax_viz_canvas_object.rect(657, 388, 20, 15);\n",
       "minimax_viz_canvas_object.line(657, 388, 677, 388);\n",
       "minimax_viz_canvas_object.line(657, 388, 657, 403);\n",
       "minimax_viz_canvas_object.line(677, 403, 677, 388);\n",
       "minimax_viz_canvas_object.line(677, 403, 657, 403);\n",
       "minimax_viz_canvas_object.fill(0, 0, 0);\n",
       "minimax_viz_canvas_object.fill(200, 200, 200);\n",
       "minimax_viz_canvas_object.rect(746, 388, 20, 15);\n",
       "minimax_viz_canvas_object.line(746, 388, 766, 388);\n",
       "minimax_viz_canvas_object.line(746, 388, 746, 403);\n",
       "minimax_viz_canvas_object.line(766, 403, 766, 388);\n",
       "minimax_viz_canvas_object.line(766, 403, 746, 403);\n",
       "minimax_viz_canvas_object.fill(0, 0, 0);\n",
       "minimax_viz_canvas_object.fill(255, 255, 255);\n",
       "minimax_viz_canvas_object.rect(5, 578, 20, 15);\n",
       "minimax_viz_canvas_object.line(5, 578, 25, 578);\n",
       "minimax_viz_canvas_object.line(5, 578, 5, 593);\n",
       "minimax_viz_canvas_object.line(25, 593, 25, 578);\n",
       "minimax_viz_canvas_object.line(25, 593, 5, 593);\n",
       "minimax_viz_canvas_object.fill(0, 0, 0);\n",
       "minimax_viz_canvas_object.fill_text(\"44\", 7, 591);\n",
       "minimax_viz_canvas_object.fill(255, 255, 255);\n",
       "minimax_viz_canvas_object.rect(34, 578, 20, 15);\n",
       "minimax_viz_canvas_object.line(34, 578, 54, 578);\n",
       "minimax_viz_canvas_object.line(34, 578, 34, 593);\n",
       "minimax_viz_canvas_object.line(54, 593, 54, 578);\n",
       "minimax_viz_canvas_object.line(54, 593, 34, 593);\n",
       "minimax_viz_canvas_object.fill(0, 0, 0);\n",
       "minimax_viz_canvas_object.fill_text(\"31\", 36, 591);\n",
       "minimax_viz_canvas_object.fill(255, 255, 255);\n",
       "minimax_viz_canvas_object.rect(64, 578, 20, 15);\n",
       "minimax_viz_canvas_object.line(64, 578, 84, 578);\n",
       "minimax_viz_canvas_object.line(64, 578, 64, 593);\n",
       "minimax_viz_canvas_object.line(84, 593, 84, 578);\n",
       "minimax_viz_canvas_object.line(84, 593, 64, 593);\n",
       "minimax_viz_canvas_object.fill(0, 0, 0);\n",
       "minimax_viz_canvas_object.fill_text(\"43\", 66, 591);\n",
       "minimax_viz_canvas_object.fill(255, 255, 255);\n",
       "minimax_viz_canvas_object.rect(94, 578, 20, 15);\n",
       "minimax_viz_canvas_object.line(94, 578, 114, 578);\n",
       "minimax_viz_canvas_object.line(94, 578, 94, 593);\n",
       "minimax_viz_canvas_object.line(114, 593, 114, 578);\n",
       "minimax_viz_canvas_object.line(114, 593, 94, 593);\n",
       "minimax_viz_canvas_object.fill(0, 0, 0);\n",
       "minimax_viz_canvas_object.fill_text(\"41\", 96, 591);\n",
       "minimax_viz_canvas_object.fill(255, 255, 255);\n",
       "minimax_viz_canvas_object.rect(123, 578, 20, 15);\n",
       "minimax_viz_canvas_object.line(123, 578, 143, 578);\n",
       "minimax_viz_canvas_object.line(123, 578, 123, 593);\n",
       "minimax_viz_canvas_object.line(143, 593, 143, 578);\n",
       "minimax_viz_canvas_object.line(143, 593, 123, 593);\n",
       "minimax_viz_canvas_object.fill(0, 0, 0);\n",
       "minimax_viz_canvas_object.fill_text(\"42\", 125, 591);\n",
       "minimax_viz_canvas_object.fill(255, 255, 255);\n",
       "minimax_viz_canvas_object.rect(153, 578, 20, 15);\n",
       "minimax_viz_canvas_object.line(153, 578, 173, 578);\n",
       "minimax_viz_canvas_object.line(153, 578, 153, 593);\n",
       "minimax_viz_canvas_object.line(173, 593, 173, 578);\n",
       "minimax_viz_canvas_object.line(173, 593, 153, 593);\n",
       "minimax_viz_canvas_object.fill(0, 0, 0);\n",
       "minimax_viz_canvas_object.fill_text(\"13\", 155, 591);\n",
       "minimax_viz_canvas_object.fill(255, 255, 255);\n",
       "minimax_viz_canvas_object.rect(183, 578, 20, 15);\n",
       "minimax_viz_canvas_object.line(183, 578, 203, 578);\n",
       "minimax_viz_canvas_object.line(183, 578, 183, 593);\n",
       "minimax_viz_canvas_object.line(203, 593, 203, 578);\n",
       "minimax_viz_canvas_object.line(203, 593, 183, 593);\n",
       "minimax_viz_canvas_object.fill(0, 0, 0);\n",
       "minimax_viz_canvas_object.fill_text(\"17\", 185, 591);\n",
       "minimax_viz_canvas_object.fill(255, 255, 255);\n",
       "minimax_viz_canvas_object.rect(212, 578, 20, 15);\n",
       "minimax_viz_canvas_object.line(212, 578, 232, 578);\n",
       "minimax_viz_canvas_object.line(212, 578, 212, 593);\n",
       "minimax_viz_canvas_object.line(232, 593, 232, 578);\n",
       "minimax_viz_canvas_object.line(232, 593, 212, 593);\n",
       "minimax_viz_canvas_object.fill(0, 0, 0);\n",
       "minimax_viz_canvas_object.fill_text(\"7\", 214, 591);\n",
       "minimax_viz_canvas_object.fill(255, 255, 255);\n",
       "minimax_viz_canvas_object.rect(242, 578, 20, 15);\n",
       "minimax_viz_canvas_object.line(242, 578, 262, 578);\n",
       "minimax_viz_canvas_object.line(242, 578, 242, 593);\n",
       "minimax_viz_canvas_object.line(262, 593, 262, 578);\n",
       "minimax_viz_canvas_object.line(262, 593, 242, 593);\n",
       "minimax_viz_canvas_object.fill(0, 0, 0);\n",
       "minimax_viz_canvas_object.fill_text(\"38\", 244, 591);\n",
       "minimax_viz_canvas_object.fill(255, 255, 255);\n",
       "minimax_viz_canvas_object.rect(271, 578, 20, 15);\n",
       "minimax_viz_canvas_object.line(271, 578, 291, 578);\n",
       "minimax_viz_canvas_object.line(271, 578, 271, 593);\n",
       "minimax_viz_canvas_object.line(291, 593, 291, 578);\n",
       "minimax_viz_canvas_object.line(291, 593, 271, 593);\n",
       "minimax_viz_canvas_object.fill(0, 0, 0);\n",
       "minimax_viz_canvas_object.fill_text(\"3\", 273, 591);\n",
       "minimax_viz_canvas_object.fill(255, 255, 255);\n",
       "minimax_viz_canvas_object.rect(301, 578, 20, 15);\n",
       "minimax_viz_canvas_object.line(301, 578, 321, 578);\n",
       "minimax_viz_canvas_object.line(301, 578, 301, 593);\n",
       "minimax_viz_canvas_object.line(321, 593, 321, 578);\n",
       "minimax_viz_canvas_object.line(321, 593, 301, 593);\n",
       "minimax_viz_canvas_object.fill(0, 0, 0);\n",
       "minimax_viz_canvas_object.fill_text(\"32\", 303, 591);\n",
       "minimax_viz_canvas_object.fill(255, 255, 255);\n",
       "minimax_viz_canvas_object.rect(331, 578, 20, 15);\n",
       "minimax_viz_canvas_object.line(331, 578, 351, 578);\n",
       "minimax_viz_canvas_object.line(331, 578, 331, 593);\n",
       "minimax_viz_canvas_object.line(351, 593, 351, 578);\n",
       "minimax_viz_canvas_object.line(351, 593, 331, 593);\n",
       "minimax_viz_canvas_object.fill(0, 0, 0);\n",
       "minimax_viz_canvas_object.fill_text(\"9\", 333, 591);\n",
       "minimax_viz_canvas_object.fill(255, 255, 255);\n",
       "minimax_viz_canvas_object.rect(360, 578, 20, 15);\n",
       "minimax_viz_canvas_object.line(360, 578, 380, 578);\n",
       "minimax_viz_canvas_object.line(360, 578, 360, 593);\n",
       "minimax_viz_canvas_object.line(380, 593, 380, 578);\n",
       "minimax_viz_canvas_object.line(380, 593, 360, 593);\n",
       "minimax_viz_canvas_object.fill(0, 0, 0);\n",
       "minimax_viz_canvas_object.fill_text(\"1\", 362, 591);\n",
       "minimax_viz_canvas_object.fill(255, 255, 255);\n",
       "minimax_viz_canvas_object.rect(390, 578, 20, 15);\n",
       "minimax_viz_canvas_object.line(390, 578, 410, 578);\n",
       "minimax_viz_canvas_object.line(390, 578, 390, 593);\n",
       "minimax_viz_canvas_object.line(410, 593, 410, 578);\n",
       "minimax_viz_canvas_object.line(410, 593, 390, 593);\n",
       "minimax_viz_canvas_object.fill(0, 0, 0);\n",
       "minimax_viz_canvas_object.fill_text(\"34\", 392, 591);\n",
       "minimax_viz_canvas_object.fill(255, 255, 255);\n",
       "minimax_viz_canvas_object.rect(420, 578, 20, 15);\n",
       "minimax_viz_canvas_object.line(420, 578, 440, 578);\n",
       "minimax_viz_canvas_object.line(420, 578, 420, 593);\n",
       "minimax_viz_canvas_object.line(440, 593, 440, 578);\n",
       "minimax_viz_canvas_object.line(440, 593, 420, 593);\n",
       "minimax_viz_canvas_object.fill(0, 0, 0);\n",
       "minimax_viz_canvas_object.fill_text(\"14\", 422, 591);\n",
       "minimax_viz_canvas_object.fill(255, 255, 255);\n",
       "minimax_viz_canvas_object.rect(449, 578, 20, 15);\n",
       "minimax_viz_canvas_object.line(449, 578, 469, 578);\n",
       "minimax_viz_canvas_object.line(449, 578, 449, 593);\n",
       "minimax_viz_canvas_object.line(469, 593, 469, 578);\n",
       "minimax_viz_canvas_object.line(469, 593, 449, 593);\n",
       "minimax_viz_canvas_object.fill(0, 0, 0);\n",
       "minimax_viz_canvas_object.fill_text(\"30\", 451, 591);\n",
       "minimax_viz_canvas_object.fill(255, 255, 255);\n",
       "minimax_viz_canvas_object.rect(479, 578, 20, 15);\n",
       "minimax_viz_canvas_object.line(479, 578, 499, 578);\n",
       "minimax_viz_canvas_object.line(479, 578, 479, 593);\n",
       "minimax_viz_canvas_object.line(499, 593, 499, 578);\n",
       "minimax_viz_canvas_object.line(499, 593, 479, 593);\n",
       "minimax_viz_canvas_object.fill(0, 0, 0);\n",
       "minimax_viz_canvas_object.fill_text(\"11\", 481, 591);\n",
       "minimax_viz_canvas_object.fill(255, 255, 255);\n",
       "minimax_viz_canvas_object.rect(509, 578, 20, 15);\n",
       "minimax_viz_canvas_object.line(509, 578, 529, 578);\n",
       "minimax_viz_canvas_object.line(509, 578, 509, 593);\n",
       "minimax_viz_canvas_object.line(529, 593, 529, 578);\n",
       "minimax_viz_canvas_object.line(529, 593, 509, 593);\n",
       "minimax_viz_canvas_object.fill(0, 0, 0);\n",
       "minimax_viz_canvas_object.fill_text(\"28\", 511, 591);\n",
       "minimax_viz_canvas_object.fill(255, 255, 255);\n",
       "minimax_viz_canvas_object.rect(538, 578, 20, 15);\n",
       "minimax_viz_canvas_object.line(538, 578, 558, 578);\n",
       "minimax_viz_canvas_object.line(538, 578, 538, 593);\n",
       "minimax_viz_canvas_object.line(558, 593, 558, 578);\n",
       "minimax_viz_canvas_object.line(558, 593, 538, 593);\n",
       "minimax_viz_canvas_object.fill(0, 0, 0);\n",
       "minimax_viz_canvas_object.fill_text(\"31\", 540, 591);\n",
       "minimax_viz_canvas_object.fill(255, 255, 255);\n",
       "minimax_viz_canvas_object.rect(568, 578, 20, 15);\n",
       "minimax_viz_canvas_object.line(568, 578, 588, 578);\n",
       "minimax_viz_canvas_object.line(568, 578, 568, 593);\n",
       "minimax_viz_canvas_object.line(588, 593, 588, 578);\n",
       "minimax_viz_canvas_object.line(588, 593, 568, 593);\n",
       "minimax_viz_canvas_object.fill(0, 0, 0);\n",
       "minimax_viz_canvas_object.fill_text(\"8\", 570, 591);\n",
       "minimax_viz_canvas_object.fill(255, 255, 255);\n",
       "minimax_viz_canvas_object.rect(597, 578, 20, 15);\n",
       "minimax_viz_canvas_object.line(597, 578, 617, 578);\n",
       "minimax_viz_canvas_object.line(597, 578, 597, 593);\n",
       "minimax_viz_canvas_object.line(617, 593, 617, 578);\n",
       "minimax_viz_canvas_object.line(617, 593, 597, 593);\n",
       "minimax_viz_canvas_object.fill(0, 0, 0);\n",
       "minimax_viz_canvas_object.fill_text(\"14\", 599, 591);\n",
       "minimax_viz_canvas_object.fill(255, 255, 255);\n",
       "minimax_viz_canvas_object.rect(627, 578, 20, 15);\n",
       "minimax_viz_canvas_object.line(627, 578, 647, 578);\n",
       "minimax_viz_canvas_object.line(627, 578, 627, 593);\n",
       "minimax_viz_canvas_object.line(647, 593, 647, 578);\n",
       "minimax_viz_canvas_object.line(647, 593, 627, 593);\n",
       "minimax_viz_canvas_object.fill(0, 0, 0);\n",
       "minimax_viz_canvas_object.fill_text(\"18\", 629, 591);\n",
       "minimax_viz_canvas_object.fill(255, 255, 255);\n",
       "minimax_viz_canvas_object.rect(657, 578, 20, 15);\n",
       "minimax_viz_canvas_object.line(657, 578, 677, 578);\n",
       "minimax_viz_canvas_object.line(657, 578, 657, 593);\n",
       "minimax_viz_canvas_object.line(677, 593, 677, 578);\n",
       "minimax_viz_canvas_object.line(677, 593, 657, 593);\n",
       "minimax_viz_canvas_object.fill(0, 0, 0);\n",
       "minimax_viz_canvas_object.fill_text(\"3\", 659, 591);\n",
       "minimax_viz_canvas_object.fill(255, 255, 255);\n",
       "minimax_viz_canvas_object.rect(686, 578, 20, 15);\n",
       "minimax_viz_canvas_object.line(686, 578, 706, 578);\n",
       "minimax_viz_canvas_object.line(686, 578, 686, 593);\n",
       "minimax_viz_canvas_object.line(706, 593, 706, 578);\n",
       "minimax_viz_canvas_object.line(706, 593, 686, 593);\n",
       "minimax_viz_canvas_object.fill(0, 0, 0);\n",
       "minimax_viz_canvas_object.fill_text(\"16\", 688, 591);\n",
       "minimax_viz_canvas_object.fill(255, 255, 255);\n",
       "minimax_viz_canvas_object.rect(716, 578, 20, 15);\n",
       "minimax_viz_canvas_object.line(716, 578, 736, 578);\n",
       "minimax_viz_canvas_object.line(716, 578, 716, 593);\n",
       "minimax_viz_canvas_object.line(736, 593, 736, 578);\n",
       "minimax_viz_canvas_object.line(736, 593, 716, 593);\n",
       "minimax_viz_canvas_object.fill(0, 0, 0);\n",
       "minimax_viz_canvas_object.fill_text(\"1\", 718, 591);\n",
       "minimax_viz_canvas_object.fill(255, 255, 255);\n",
       "minimax_viz_canvas_object.rect(746, 578, 20, 15);\n",
       "minimax_viz_canvas_object.line(746, 578, 766, 578);\n",
       "minimax_viz_canvas_object.line(746, 578, 746, 593);\n",
       "minimax_viz_canvas_object.line(766, 593, 766, 578);\n",
       "minimax_viz_canvas_object.line(766, 593, 746, 593);\n",
       "minimax_viz_canvas_object.fill(0, 0, 0);\n",
       "minimax_viz_canvas_object.fill_text(\"33\", 748, 591);\n",
       "minimax_viz_canvas_object.fill(255, 255, 255);\n",
       "minimax_viz_canvas_object.rect(775, 578, 20, 15);\n",
       "minimax_viz_canvas_object.line(775, 578, 795, 578);\n",
       "minimax_viz_canvas_object.line(775, 578, 775, 593);\n",
       "minimax_viz_canvas_object.line(795, 593, 795, 578);\n",
       "minimax_viz_canvas_object.line(795, 593, 775, 593);\n",
       "minimax_viz_canvas_object.fill(0, 0, 0);\n",
       "minimax_viz_canvas_object.fill_text(\"40\", 777, 591);\n",
       "minimax_viz_canvas_object.stroke(0, 200, 0);\n",
       "minimax_viz_canvas_object.strokeWidth(1);\n",
       "minimax_viz_canvas_object.line(400, 23, 133, 198);\n",
       "minimax_viz_canvas_object.stroke(0, 200, 0);\n",
       "minimax_viz_canvas_object.strokeWidth(1);\n",
       "minimax_viz_canvas_object.line(400, 23, 400, 198);\n",
       "minimax_viz_canvas_object.stroke(0, 200, 0);\n",
       "minimax_viz_canvas_object.strokeWidth(1);\n",
       "minimax_viz_canvas_object.line(400, 23, 667, 198);\n",
       "minimax_viz_canvas_object.stroke(200, 0, 0);\n",
       "minimax_viz_canvas_object.strokeWidth(1);\n",
       "minimax_viz_canvas_object.line(133, 213, 44, 388);\n",
       "minimax_viz_canvas_object.stroke(200, 0, 0);\n",
       "minimax_viz_canvas_object.strokeWidth(1);\n",
       "minimax_viz_canvas_object.line(133, 213, 133, 388);\n",
       "minimax_viz_canvas_object.stroke(200, 0, 0);\n",
       "minimax_viz_canvas_object.strokeWidth(1);\n",
       "minimax_viz_canvas_object.line(133, 213, 222, 388);\n",
       "minimax_viz_canvas_object.stroke(200, 0, 0);\n",
       "minimax_viz_canvas_object.strokeWidth(1);\n",
       "minimax_viz_canvas_object.line(400, 213, 311, 388);\n",
       "minimax_viz_canvas_object.stroke(200, 0, 0);\n",
       "minimax_viz_canvas_object.strokeWidth(1);\n",
       "minimax_viz_canvas_object.line(400, 213, 400, 388);\n",
       "minimax_viz_canvas_object.stroke(200, 0, 0);\n",
       "minimax_viz_canvas_object.strokeWidth(1);\n",
       "minimax_viz_canvas_object.line(400, 213, 489, 388);\n",
       "minimax_viz_canvas_object.stroke(200, 0, 0);\n",
       "minimax_viz_canvas_object.strokeWidth(1);\n",
       "minimax_viz_canvas_object.line(667, 213, 578, 388);\n",
       "minimax_viz_canvas_object.stroke(200, 0, 0);\n",
       "minimax_viz_canvas_object.strokeWidth(1);\n",
       "minimax_viz_canvas_object.line(667, 213, 667, 388);\n",
       "minimax_viz_canvas_object.stroke(200, 0, 0);\n",
       "minimax_viz_canvas_object.strokeWidth(1);\n",
       "minimax_viz_canvas_object.line(667, 213, 756, 388);\n",
       "minimax_viz_canvas_object.stroke(0, 200, 0);\n",
       "minimax_viz_canvas_object.strokeWidth(1);\n",
       "minimax_viz_canvas_object.line(44, 403, 15, 578);\n",
       "minimax_viz_canvas_object.stroke(0, 200, 0);\n",
       "minimax_viz_canvas_object.strokeWidth(1);\n",
       "minimax_viz_canvas_object.line(44, 403, 44, 578);\n",
       "minimax_viz_canvas_object.stroke(0, 200, 0);\n",
       "minimax_viz_canvas_object.strokeWidth(1);\n",
       "minimax_viz_canvas_object.line(44, 403, 74, 578);\n",
       "minimax_viz_canvas_object.stroke(0, 200, 0);\n",
       "minimax_viz_canvas_object.strokeWidth(1);\n",
       "minimax_viz_canvas_object.line(133, 403, 104, 578);\n",
       "minimax_viz_canvas_object.stroke(0, 200, 0);\n",
       "minimax_viz_canvas_object.strokeWidth(1);\n",
       "minimax_viz_canvas_object.line(133, 403, 133, 578);\n",
       "minimax_viz_canvas_object.stroke(0, 200, 0);\n",
       "minimax_viz_canvas_object.strokeWidth(1);\n",
       "minimax_viz_canvas_object.line(133, 403, 163, 578);\n",
       "minimax_viz_canvas_object.stroke(0, 200, 0);\n",
       "minimax_viz_canvas_object.strokeWidth(1);\n",
       "minimax_viz_canvas_object.line(222, 403, 193, 578);\n",
       "minimax_viz_canvas_object.stroke(0, 200, 0);\n",
       "minimax_viz_canvas_object.strokeWidth(1);\n",
       "minimax_viz_canvas_object.line(222, 403, 222, 578);\n",
       "minimax_viz_canvas_object.stroke(0, 200, 0);\n",
       "minimax_viz_canvas_object.strokeWidth(1);\n",
       "minimax_viz_canvas_object.line(222, 403, 252, 578);\n",
       "minimax_viz_canvas_object.stroke(0, 200, 0);\n",
       "minimax_viz_canvas_object.strokeWidth(1);\n",
       "minimax_viz_canvas_object.line(311, 403, 281, 578);\n",
       "minimax_viz_canvas_object.stroke(0, 200, 0);\n",
       "minimax_viz_canvas_object.strokeWidth(1);\n",
       "minimax_viz_canvas_object.line(311, 403, 311, 578);\n",
       "minimax_viz_canvas_object.stroke(0, 200, 0);\n",
       "minimax_viz_canvas_object.strokeWidth(1);\n",
       "minimax_viz_canvas_object.line(311, 403, 341, 578);\n",
       "minimax_viz_canvas_object.stroke(0, 200, 0);\n",
       "minimax_viz_canvas_object.strokeWidth(1);\n",
       "minimax_viz_canvas_object.line(400, 403, 370, 578);\n",
       "minimax_viz_canvas_object.stroke(0, 200, 0);\n",
       "minimax_viz_canvas_object.strokeWidth(1);\n",
       "minimax_viz_canvas_object.line(400, 403, 400, 578);\n",
       "minimax_viz_canvas_object.stroke(0, 200, 0);\n",
       "minimax_viz_canvas_object.strokeWidth(1);\n",
       "minimax_viz_canvas_object.line(400, 403, 430, 578);\n",
       "minimax_viz_canvas_object.stroke(0, 200, 0);\n",
       "minimax_viz_canvas_object.strokeWidth(1);\n",
       "minimax_viz_canvas_object.line(489, 403, 459, 578);\n",
       "minimax_viz_canvas_object.stroke(0, 200, 0);\n",
       "minimax_viz_canvas_object.strokeWidth(1);\n",
       "minimax_viz_canvas_object.line(489, 403, 489, 578);\n",
       "minimax_viz_canvas_object.stroke(0, 200, 0);\n",
       "minimax_viz_canvas_object.strokeWidth(1);\n",
       "minimax_viz_canvas_object.line(489, 403, 519, 578);\n",
       "minimax_viz_canvas_object.stroke(0, 200, 0);\n",
       "minimax_viz_canvas_object.strokeWidth(1);\n",
       "minimax_viz_canvas_object.line(578, 403, 548, 578);\n",
       "minimax_viz_canvas_object.stroke(0, 200, 0);\n",
       "minimax_viz_canvas_object.strokeWidth(1);\n",
       "minimax_viz_canvas_object.line(578, 403, 578, 578);\n",
       "minimax_viz_canvas_object.stroke(0, 200, 0);\n",
       "minimax_viz_canvas_object.strokeWidth(1);\n",
       "minimax_viz_canvas_object.line(578, 403, 607, 578);\n",
       "minimax_viz_canvas_object.stroke(0, 200, 0);\n",
       "minimax_viz_canvas_object.strokeWidth(1);\n",
       "minimax_viz_canvas_object.line(667, 403, 637, 578);\n",
       "minimax_viz_canvas_object.stroke(0, 200, 0);\n",
       "minimax_viz_canvas_object.strokeWidth(1);\n",
       "minimax_viz_canvas_object.line(667, 403, 667, 578);\n",
       "minimax_viz_canvas_object.stroke(0, 200, 0);\n",
       "minimax_viz_canvas_object.strokeWidth(1);\n",
       "minimax_viz_canvas_object.line(667, 403, 696, 578);\n",
       "minimax_viz_canvas_object.stroke(0, 200, 0);\n",
       "minimax_viz_canvas_object.strokeWidth(1);\n",
       "minimax_viz_canvas_object.line(756, 403, 726, 578);\n",
       "minimax_viz_canvas_object.stroke(0, 200, 0);\n",
       "minimax_viz_canvas_object.strokeWidth(1);\n",
       "minimax_viz_canvas_object.line(756, 403, 756, 578);\n",
       "minimax_viz_canvas_object.stroke(0, 200, 0);\n",
       "minimax_viz_canvas_object.strokeWidth(1);\n",
       "minimax_viz_canvas_object.line(756, 403, 785, 578);\n",
       "</script>"
      ],
      "text/plain": [
       "<IPython.core.display.HTML object>"
      ]
     },
     "metadata": {},
     "output_type": "display_data"
    }
   ],
   "source": [
    "minimax_viz = Canvas_minimax('minimax_viz', [randint(1, 50) for i in range(27)])"
   ]
  },
  {
   "cell_type": "markdown",
   "metadata": {},
   "source": [
    "# ALPHA-BETA\n",
    "\n",
    "## ภาพรวม (Overview)\n",
    "\n",
    "ในขณะที่ *Minimax* เหมาะสำหรับการคำนวณการเดิน แต่มันสามารถกลายเป็นเรื่องยุ่งยากเมื่อจำนวนสถานะเกมมีมากขึ้น อัลกอริทึมต้องค้นหาใบทั้งหมดของต้นไม้ ซึ่งเพิ่มขึ้นแบบเลขชี้กำลังกับความลึกของมัน\n",
    "\n",
    "สำหรับ Tic-Tac-Toe ที่มีความลึกของต้นไม้คือ 9 (หลังจากการเดินที่ 9 เกมจบ) เราสามารถมีสถานะสิ้นสุดได้มากที่สุด 9! (มากที่สุดเพราะไม่ใช่โหนดสิ้นสุดทั้งหมดอยู่ที่ระดับสุดท้ายของต้นไม้; บางตัวอยู่สูงขึ้นเพราะเกมจบก่อนการเดินที่ 9) นี่ไม่เลวเท่าไหร่ แต่สำหรับปัญหาที่ซับซ้อนกว่าเช่นหมากรุก เรามีโหนดสิ้นสุดมากกว่า $10^{40}$ โชคไม่ดีที่เรายังไม่พบวิธีตัดเลขชี้กำลังออกไป แต่เราพบวิธีบรรเทาภาระงาน\n",
    "\n",
    "ที่นี่เราจะตรวจสอบการ *ตัดแต่ง (pruning)* ต้นไม้เกม ซึ่งหมายถึงการเอาส่วนที่เราไม่จำเป็นต้องตรวจสอบออกไป ประเภทของการตัดแต่งเฉพาะนี้เรียกว่า *alpha-beta* และการค้นหาโดยรวมเรียกว่า *alpha-beta search*\n",
    "\n",
    "เพื่อแสดงส่วนใดของต้นไม้ที่เราไม่จำเป็นต้องค้นหา เราจะดูตัวอย่าง `Fig52Game`\n",
    "\n",
    "ในตัวอย่างเกม เราต้องหาการเดินที่ดีที่สุดสำหรับผู้เล่น MAX ที่สถานะ A ซึ่งคือค่าสูงสุดของการเดินที่เป็นไปได้ของ MIN ที่สถานะตัวตาม\n",
    "\n",
    "`MAX(A) = MAX( MIN(B), MIN(C), MIN(D) )`\n",
    "\n",
    "`MIN(B)` คือค่าต่ำสุดของ 3, 12, 8 ซึ่งคือ 3 ดังนั้นสูตรข้างบนจะกลายเป็น:\n",
    "\n",
    "`MAX(A) = MAX( 3, MIN(C), MIN(D) )`\n",
    "\n",
    "การเดินต่อไปที่เราจะตรวจสอบคือ c1 ซึ่งนำไปสู่สถานะสิ้นสุดด้วยค่าประโยชน์ 2 ก่อนที่เราจะค้นหาต่อภายใต้สถานะ C มากลับไปในสูตรของเราด้วยค่าใหม่:\n",
    "\n",
    "`MAX(A) = MAX( 3, MIN(2, c2, .... cN), MIN(D) )`\n",
    "\n",
    "เราไม่ทราบว่าสถานะ C อนุญาตการเดินกี่ครั้ง แต่เราทราบว่าการเดินแรกได้ผลลัพธ์ค่า 2 เราต้องค้นหาต่อภายใต้ C หรือไม่? คำตอบคือไม่ ค่าที่ MIN จะเลือกใน C จะมากที่สุด 2 เนื่องจาก MAX มีตัวเลือกที่จะเลือกบางอย่างที่มากกว่านั้นแล้ว คือ 3 จาก B เขาไม่จำเป็นต้องค้นหาต่อภายใต้ C\n",
    "\n",
    "ใน *alpha-beta* เราใช้พารามิเตอร์เพิ่มเติมสองตัวสำหรับแต่ละสถานะ/โหนด *a* และ *b* ที่อธิบายขอบเขตในการเดินที่เป็นไปได้ พารามิเตอร์ *a* แสดงตัวเลือกที่ดีที่สุด (ค่าสูงสุด) สำหรับ MAX ตามเส้นทางนั้น ในขณะที่ *b* แสดงตัวเลือกที่ดีที่สุด (ค่าต่ำสุด) สำหรับ MIN เมื่อเราดำเนินไป เราจะอัปเดต *a* และ *b* และตัดแต่งแขนงโหนดเมื่อค่าของโหนดแย่กว่าค่าของ *a* และ *b* สำหรับ MAX และ MIN ตามลำดับ\n",
    "\n",
    "ในตัวอย่างข้างบน หลังจากการค้นหาภายใต้สถานะ B, MAX มีค่า *a* เป็น 3 ดังนั้น เมื่อค้นหาโหนด C เราพบค่าน้อยกว่านั้น คือ 2 เราจึงหยุดการค้นหาภายใต้ C\n",
    "\n",
    "คุณสามารถอ่าน pseudocode ด้านล่าง:"
   ]
  },
  {
   "cell_type": "code",
   "execution_count": 10,
   "metadata": {},
   "outputs": [
    {
     "data": {
      "text/markdown": [
       "### AIMA3e\n",
       "__function__ ALPHA-BETA-SEARCH(_state_) __returns__ an action  \n",
       "&emsp;_v_ &larr; MAX\\-VALUE(_state_, &minus;&infin;, &plus;&infin;)  \n",
       "&emsp;__return__ the _action_ in ACTIONS(_state_) with value _v_  \n",
       "\n",
       "---\n",
       "__function__ MAX\\-VALUE(_state_, _&alpha;_, _&beta;_) __returns__ _a utility value_  \n",
       "&emsp;__if__ TERMINAL\\-TEST(_state_) __then return__ UTILITY(_state_)  \n",
       "&emsp;_v_ &larr; &minus;&infin;  \n",
       "&emsp;__for each__ _a_ __in__ ACTIONS(_state_) __do__  \n",
       "&emsp;&emsp;&emsp;_v_ &larr; MAX(_v_, MIN\\-VALUE(RESULT(_state_, _a_), _&alpha;_, _&beta;_))  \n",
       "&emsp;&emsp;&emsp;__if__ _v_ &ge; _&beta;_ __then return__ _v_  \n",
       "&emsp;&emsp;&emsp;_&alpha;_ &larr; MAX(_&alpha;_, _v_)  \n",
       "&emsp;__return__ _v_  \n",
       "\n",
       "---\n",
       "__function__ MIN\\-VALUE(_state_, _&alpha;_, _&beta;_) __returns__ _a utility value_  \n",
       "&emsp;__if__ TERMINAL\\-TEST(_state_) __then return__ UTILITY(_state_)  \n",
       "&emsp;_v_ &larr; &plus;&infin;  \n",
       "&emsp;__for each__ _a_ __in__ ACTIONS(_state_) __do__  \n",
       "&emsp;&emsp;&emsp;_v_ &larr; MIN(_v_, MAX\\-VALUE(RESULT(_state_, _a_), _&alpha;_, _&beta;_))  \n",
       "&emsp;&emsp;&emsp;__if__ _v_ &le; _&alpha;_ __then return__ _v_  \n",
       "&emsp;&emsp;&emsp;_&beta;_ &larr; MIN(_&beta;_, _v_)  \n",
       "&emsp;__return__ _v_  \n",
       "\n",
       "\n",
       "---\n",
       "__Figure__ ?? The alpha\\-beta search algorithm. Notice that these routines are the same as the MINIMAX functions in Figure ??, except for the two lines in each of MIN\\-VALUE and MAX\\-VALUE that maintain _&alpha;_ and _&beta;_ (and the bookkeeping to pass these parameters along)."
      ],
      "text/plain": [
       "<IPython.core.display.Markdown object>"
      ]
     },
     "execution_count": 10,
     "metadata": {},
     "output_type": "execute_result"
    }
   ],
   "source": [
    "pseudocode(\"Alpha-Beta-Search\")"
   ]
  },
  {
   "cell_type": "markdown",
   "metadata": {},
   "source": [
    "## การดำเนินงาน (Implementation)\n",
    "\n",
    "เช่นเดียวกับ *minimax* เราใช้ฟังก์ชัน `max_value` และ `min_value` อีกครั้ง แต่คราวนี้เราใช้ค่า *a* และ *b* อัปเดตพวกมันและหยุดการเรียกแบบเรียกซ้ำหากเราไปสู่โหนดที่มีค่าแย่กว่า *a* และ *b* (สำหรับ MAX และ MIN) อัลกอริทึมหาค่าสูงสุดและส่งคืนการเดินที่ได้ผลลัพธ์นั้น\n",
    "\n",
    "การดำเนินงาน:"
   ]
  },
  {
   "cell_type": "code",
   "execution_count": 21,
   "metadata": {
    "collapsed": true
   },
   "outputs": [],
   "source": [
    "%psource alphabeta_search"
   ]
  },
  {
   "cell_type": "markdown",
   "metadata": {},
   "source": [
    "## ตัวอย่าง (Example)\n",
    "\n",
    "เราจะเล่นเกม Fig52 ด้วยอัลกอริทึม *alpha-beta* search ถึงคิว MAX ที่จะเล่นที่สถานะ A"
   ]
  },
  {
   "cell_type": "code",
   "execution_count": 22,
   "metadata": {},
   "outputs": [
    {
     "name": "stdout",
     "output_type": "stream",
     "text": [
      "a1\n"
     ]
    }
   ],
   "source": [
    "print(alphabeta_search('A', fig52))"
   ]
  },
  {
   "cell_type": "markdown",
   "metadata": {},
   "source": [
    "การเดินที่ดีที่สุดสำหรับ MAX คือ a1 ด้วยเหตุผลที่ให้ไว้ข้างบน MIN จะเลือกการเดิน b1 สำหรับ B ได้ผลลัพธ์ค่า 3 อัปเดตค่า *a* ของ MAX เป็น 3 จากนั้น เมื่อเราพบภายใต้ C โหนดที่มีค่า 2 เราจะหยุดการค้นหาภายใต้ sub-tree นั้นเนื่องจากมันน้อยกว่า *a* จาก D เรามีค่า 2 ดังนั้น การเดินที่ดีที่สุดสำหรับ MAX คือการที่ได้ผลลัพธ์ค่า 3 ซึ่งคือ a1\n",
    "\n",
    "ด้านล่างเราเห็นการเดินที่ดีที่สุดสำหรับ MIN เริ่มจาก B, C และ D ตามลำดับ โปรดสังเกตว่าอัลกอริทึมในกรณีเหล่านี้ทำงานเหมือนกับ *minimax* เนื่องจากโหนดทั้งหมดด้านล่างสถานะที่กล่าวถึงข้างบนเป็นสถานะสิ้นสุด"
   ]
  },
  {
   "cell_type": "code",
   "execution_count": 23,
   "metadata": {},
   "outputs": [
    {
     "name": "stdout",
     "output_type": "stream",
     "text": [
      "b1\n",
      "c1\n",
      "d3\n"
     ]
    }
   ],
   "source": [
    "print(alphabeta_search('B', fig52))\n",
    "print(alphabeta_search('C', fig52))\n",
    "print(alphabeta_search('D', fig52))"
   ]
  },
  {
   "cell_type": "markdown",
   "metadata": {},
   "source": [
    "## การแสดงผลด้วยภาพ (Visualization)\n",
    "\n",
    "ด้านล่างคุณจะพบการแสดงผลด้วยภาพของอัลกอริทึม alpha-beta สำหรับเกมง่ายๆ คลิกที่เซลล์หลังจากที่คุณรันคำสั่งเพื่อเดินเกมต่อไป คุณสามารถป้อนค่าของคุณเองผ่านรายการของจำนวนเต็ม 27 ตัว"
   ]
  },
  {
   "cell_type": "code",
   "execution_count": 11,
   "metadata": {},
   "outputs": [],
   "source": [
    "from notebook import Canvas_alphabeta\n",
    "from random import randint"
   ]
  },
  {
   "cell_type": "code",
   "execution_count": 12,
   "metadata": {},
   "outputs": [
    {
     "data": {
      "text/html": [
       "\n",
       "<script type=\"text/javascript\" src=\"./js/canvas.js\"></script>\n",
       "<div>\n",
       "<canvas id=\"alphabeta_viz\" width=\"800\" height=\"600\" style=\"background:rgba(158, 167, 184, 0.2);\" onclick='click_callback(this, event, \"alphabeta_viz\")'></canvas>\n",
       "</div>\n",
       "\n",
       "<script> var alphabeta_viz_canvas_object = new Canvas(\"alphabeta_viz\");</script>\n"
      ],
      "text/plain": [
       "<IPython.core.display.HTML object>"
      ]
     },
     "metadata": {},
     "output_type": "display_data"
    },
    {
     "data": {
      "text/html": [
       "<script>\n",
       "alphabeta_viz_canvas_object.font(\"12px Arial\");\n",
       "alphabeta_viz_canvas_object.clear();\n",
       "alphabeta_viz_canvas_object.stroke(0, 0, 0);\n",
       "alphabeta_viz_canvas_object.strokeWidth(1);\n",
       "alphabeta_viz_canvas_object.fill(200, 200, 200);\n",
       "alphabeta_viz_canvas_object.rect(390, 23, 20, 15);\n",
       "alphabeta_viz_canvas_object.line(390, 23, 410, 23);\n",
       "alphabeta_viz_canvas_object.line(390, 23, 390, 38);\n",
       "alphabeta_viz_canvas_object.line(410, 38, 410, 23);\n",
       "alphabeta_viz_canvas_object.line(410, 38, 390, 38);\n",
       "alphabeta_viz_canvas_object.fill(0, 0, 0);\n",
       "alphabeta_viz_canvas_object.fill(200, 200, 200);\n",
       "alphabeta_viz_canvas_object.rect(123, 208, 20, 15);\n",
       "alphabeta_viz_canvas_object.line(123, 208, 143, 208);\n",
       "alphabeta_viz_canvas_object.line(123, 208, 123, 222);\n",
       "alphabeta_viz_canvas_object.line(143, 222, 143, 208);\n",
       "alphabeta_viz_canvas_object.line(143, 222, 123, 222);\n",
       "alphabeta_viz_canvas_object.fill(0, 0, 0);\n",
       "alphabeta_viz_canvas_object.fill(200, 200, 200);\n",
       "alphabeta_viz_canvas_object.rect(390, 208, 20, 15);\n",
       "alphabeta_viz_canvas_object.line(390, 208, 410, 208);\n",
       "alphabeta_viz_canvas_object.line(390, 208, 390, 222);\n",
       "alphabeta_viz_canvas_object.line(410, 222, 410, 208);\n",
       "alphabeta_viz_canvas_object.line(410, 222, 390, 222);\n",
       "alphabeta_viz_canvas_object.fill(0, 0, 0);\n",
       "alphabeta_viz_canvas_object.fill(200, 200, 200);\n",
       "alphabeta_viz_canvas_object.rect(657, 208, 20, 15);\n",
       "alphabeta_viz_canvas_object.line(657, 208, 677, 208);\n",
       "alphabeta_viz_canvas_object.line(657, 208, 657, 222);\n",
       "alphabeta_viz_canvas_object.line(677, 222, 677, 208);\n",
       "alphabeta_viz_canvas_object.line(677, 222, 657, 222);\n",
       "alphabeta_viz_canvas_object.fill(0, 0, 0);\n",
       "alphabeta_viz_canvas_object.fill(200, 200, 200);\n",
       "alphabeta_viz_canvas_object.rect(34, 392, 20, 15);\n",
       "alphabeta_viz_canvas_object.line(34, 392, 54, 392);\n",
       "alphabeta_viz_canvas_object.line(34, 392, 34, 408);\n",
       "alphabeta_viz_canvas_object.line(54, 408, 54, 392);\n",
       "alphabeta_viz_canvas_object.line(54, 408, 34, 408);\n",
       "alphabeta_viz_canvas_object.fill(0, 0, 0);\n",
       "alphabeta_viz_canvas_object.fill(200, 200, 200);\n",
       "alphabeta_viz_canvas_object.rect(123, 392, 20, 15);\n",
       "alphabeta_viz_canvas_object.line(123, 392, 143, 392);\n",
       "alphabeta_viz_canvas_object.line(123, 392, 123, 408);\n",
       "alphabeta_viz_canvas_object.line(143, 408, 143, 392);\n",
       "alphabeta_viz_canvas_object.line(143, 408, 123, 408);\n",
       "alphabeta_viz_canvas_object.fill(0, 0, 0);\n",
       "alphabeta_viz_canvas_object.fill(200, 200, 200);\n",
       "alphabeta_viz_canvas_object.rect(212, 392, 20, 15);\n",
       "alphabeta_viz_canvas_object.line(212, 392, 232, 392);\n",
       "alphabeta_viz_canvas_object.line(212, 392, 212, 408);\n",
       "alphabeta_viz_canvas_object.line(232, 408, 232, 392);\n",
       "alphabeta_viz_canvas_object.line(232, 408, 212, 408);\n",
       "alphabeta_viz_canvas_object.fill(0, 0, 0);\n",
       "alphabeta_viz_canvas_object.fill(200, 200, 200);\n",
       "alphabeta_viz_canvas_object.rect(301, 392, 20, 15);\n",
       "alphabeta_viz_canvas_object.line(301, 392, 321, 392);\n",
       "alphabeta_viz_canvas_object.line(301, 392, 301, 408);\n",
       "alphabeta_viz_canvas_object.line(321, 408, 321, 392);\n",
       "alphabeta_viz_canvas_object.line(321, 408, 301, 408);\n",
       "alphabeta_viz_canvas_object.fill(0, 0, 0);\n",
       "alphabeta_viz_canvas_object.fill(200, 200, 200);\n",
       "alphabeta_viz_canvas_object.rect(390, 392, 20, 15);\n",
       "alphabeta_viz_canvas_object.line(390, 392, 410, 392);\n",
       "alphabeta_viz_canvas_object.line(390, 392, 390, 408);\n",
       "alphabeta_viz_canvas_object.line(410, 408, 410, 392);\n",
       "alphabeta_viz_canvas_object.line(410, 408, 390, 408);\n",
       "alphabeta_viz_canvas_object.fill(0, 0, 0);\n",
       "alphabeta_viz_canvas_object.fill(200, 200, 200);\n",
       "alphabeta_viz_canvas_object.rect(479, 392, 20, 15);\n",
       "alphabeta_viz_canvas_object.line(479, 392, 499, 392);\n",
       "alphabeta_viz_canvas_object.line(479, 392, 479, 408);\n",
       "alphabeta_viz_canvas_object.line(499, 408, 499, 392);\n",
       "alphabeta_viz_canvas_object.line(499, 408, 479, 408);\n",
       "alphabeta_viz_canvas_object.fill(0, 0, 0);\n",
       "alphabeta_viz_canvas_object.fill(200, 200, 200);\n",
       "alphabeta_viz_canvas_object.rect(568, 392, 20, 15);\n",
       "alphabeta_viz_canvas_object.line(568, 392, 588, 392);\n",
       "alphabeta_viz_canvas_object.line(568, 392, 568, 408);\n",
       "alphabeta_viz_canvas_object.line(588, 408, 588, 392);\n",
       "alphabeta_viz_canvas_object.line(588, 408, 568, 408);\n",
       "alphabeta_viz_canvas_object.fill(0, 0, 0);\n",
       "alphabeta_viz_canvas_object.fill(200, 200, 200);\n",
       "alphabeta_viz_canvas_object.rect(657, 392, 20, 15);\n",
       "alphabeta_viz_canvas_object.line(657, 392, 677, 392);\n",
       "alphabeta_viz_canvas_object.line(657, 392, 657, 408);\n",
       "alphabeta_viz_canvas_object.line(677, 408, 677, 392);\n",
       "alphabeta_viz_canvas_object.line(677, 408, 657, 408);\n",
       "alphabeta_viz_canvas_object.fill(0, 0, 0);\n",
       "alphabeta_viz_canvas_object.fill(200, 200, 200);\n",
       "alphabeta_viz_canvas_object.rect(746, 392, 20, 15);\n",
       "alphabeta_viz_canvas_object.line(746, 392, 766, 392);\n",
       "alphabeta_viz_canvas_object.line(746, 392, 746, 408);\n",
       "alphabeta_viz_canvas_object.line(766, 408, 766, 392);\n",
       "alphabeta_viz_canvas_object.line(766, 408, 746, 408);\n",
       "alphabeta_viz_canvas_object.fill(0, 0, 0);\n",
       "alphabeta_viz_canvas_object.fill(255, 255, 255);\n",
       "alphabeta_viz_canvas_object.rect(5, 578, 20, 15);\n",
       "alphabeta_viz_canvas_object.line(5, 578, 25, 578);\n",
       "alphabeta_viz_canvas_object.line(5, 578, 5, 592);\n",
       "alphabeta_viz_canvas_object.line(25, 592, 25, 578);\n",
       "alphabeta_viz_canvas_object.line(25, 592, 5, 592);\n",
       "alphabeta_viz_canvas_object.fill(0, 0, 0);\n",
       "alphabeta_viz_canvas_object.fill_text(\"20\", 7, 591);\n",
       "alphabeta_viz_canvas_object.fill(255, 255, 255);\n",
       "alphabeta_viz_canvas_object.rect(34, 578, 20, 15);\n",
       "alphabeta_viz_canvas_object.line(34, 578, 54, 578);\n",
       "alphabeta_viz_canvas_object.line(34, 578, 34, 592);\n",
       "alphabeta_viz_canvas_object.line(54, 592, 54, 578);\n",
       "alphabeta_viz_canvas_object.line(54, 592, 34, 592);\n",
       "alphabeta_viz_canvas_object.fill(0, 0, 0);\n",
       "alphabeta_viz_canvas_object.fill_text(\"34\", 36, 591);\n",
       "alphabeta_viz_canvas_object.fill(255, 255, 255);\n",
       "alphabeta_viz_canvas_object.rect(64, 578, 20, 15);\n",
       "alphabeta_viz_canvas_object.line(64, 578, 84, 578);\n",
       "alphabeta_viz_canvas_object.line(64, 578, 64, 592);\n",
       "alphabeta_viz_canvas_object.line(84, 592, 84, 578);\n",
       "alphabeta_viz_canvas_object.line(84, 592, 64, 592);\n",
       "alphabeta_viz_canvas_object.fill(0, 0, 0);\n",
       "alphabeta_viz_canvas_object.fill_text(\"37\", 66, 591);\n",
       "alphabeta_viz_canvas_object.fill(255, 255, 255);\n",
       "alphabeta_viz_canvas_object.rect(94, 578, 20, 15);\n",
       "alphabeta_viz_canvas_object.line(94, 578, 114, 578);\n",
       "alphabeta_viz_canvas_object.line(94, 578, 94, 592);\n",
       "alphabeta_viz_canvas_object.line(114, 592, 114, 578);\n",
       "alphabeta_viz_canvas_object.line(114, 592, 94, 592);\n",
       "alphabeta_viz_canvas_object.fill(0, 0, 0);\n",
       "alphabeta_viz_canvas_object.fill_text(\"41\", 96, 591);\n",
       "alphabeta_viz_canvas_object.fill(255, 255, 255);\n",
       "alphabeta_viz_canvas_object.rect(123, 578, 20, 15);\n",
       "alphabeta_viz_canvas_object.line(123, 578, 143, 578);\n",
       "alphabeta_viz_canvas_object.line(123, 578, 123, 592);\n",
       "alphabeta_viz_canvas_object.line(143, 592, 143, 578);\n",
       "alphabeta_viz_canvas_object.line(143, 592, 123, 592);\n",
       "alphabeta_viz_canvas_object.fill(0, 0, 0);\n",
       "alphabeta_viz_canvas_object.fill_text(\"8\", 125, 591);\n",
       "alphabeta_viz_canvas_object.fill(255, 255, 255);\n",
       "alphabeta_viz_canvas_object.rect(153, 578, 20, 15);\n",
       "alphabeta_viz_canvas_object.line(153, 578, 173, 578);\n",
       "alphabeta_viz_canvas_object.line(153, 578, 153, 592);\n",
       "alphabeta_viz_canvas_object.line(173, 592, 173, 578);\n",
       "alphabeta_viz_canvas_object.line(173, 592, 153, 592);\n",
       "alphabeta_viz_canvas_object.fill(0, 0, 0);\n",
       "alphabeta_viz_canvas_object.fill_text(\"47\", 155, 591);\n",
       "alphabeta_viz_canvas_object.fill(255, 255, 255);\n",
       "alphabeta_viz_canvas_object.rect(183, 578, 20, 15);\n",
       "alphabeta_viz_canvas_object.line(183, 578, 203, 578);\n",
       "alphabeta_viz_canvas_object.line(183, 578, 183, 592);\n",
       "alphabeta_viz_canvas_object.line(203, 592, 203, 578);\n",
       "alphabeta_viz_canvas_object.line(203, 592, 183, 592);\n",
       "alphabeta_viz_canvas_object.fill(0, 0, 0);\n",
       "alphabeta_viz_canvas_object.fill_text(\"39\", 185, 591);\n",
       "alphabeta_viz_canvas_object.fill(255, 255, 255);\n",
       "alphabeta_viz_canvas_object.rect(212, 578, 20, 15);\n",
       "alphabeta_viz_canvas_object.line(212, 578, 232, 578);\n",
       "alphabeta_viz_canvas_object.line(212, 578, 212, 592);\n",
       "alphabeta_viz_canvas_object.line(232, 592, 232, 578);\n",
       "alphabeta_viz_canvas_object.line(232, 592, 212, 592);\n",
       "alphabeta_viz_canvas_object.fill(0, 0, 0);\n",
       "alphabeta_viz_canvas_object.fill_text(\"38\", 214, 591);\n",
       "alphabeta_viz_canvas_object.fill(255, 255, 255);\n",
       "alphabeta_viz_canvas_object.rect(242, 578, 20, 15);\n",
       "alphabeta_viz_canvas_object.line(242, 578, 262, 578);\n",
       "alphabeta_viz_canvas_object.line(242, 578, 242, 592);\n",
       "alphabeta_viz_canvas_object.line(262, 592, 262, 578);\n",
       "alphabeta_viz_canvas_object.line(262, 592, 242, 592);\n",
       "alphabeta_viz_canvas_object.fill(0, 0, 0);\n",
       "alphabeta_viz_canvas_object.fill_text(\"45\", 244, 591);\n",
       "alphabeta_viz_canvas_object.fill(255, 255, 255);\n",
       "alphabeta_viz_canvas_object.rect(271, 578, 20, 15);\n",
       "alphabeta_viz_canvas_object.line(271, 578, 291, 578);\n",
       "alphabeta_viz_canvas_object.line(271, 578, 271, 592);\n",
       "alphabeta_viz_canvas_object.line(291, 592, 291, 578);\n",
       "alphabeta_viz_canvas_object.line(291, 592, 271, 592);\n",
       "alphabeta_viz_canvas_object.fill(0, 0, 0);\n",
       "alphabeta_viz_canvas_object.fill_text(\"46\", 273, 591);\n",
       "alphabeta_viz_canvas_object.fill(255, 255, 255);\n",
       "alphabeta_viz_canvas_object.rect(301, 578, 20, 15);\n",
       "alphabeta_viz_canvas_object.line(301, 578, 321, 578);\n",
       "alphabeta_viz_canvas_object.line(301, 578, 301, 592);\n",
       "alphabeta_viz_canvas_object.line(321, 592, 321, 578);\n",
       "alphabeta_viz_canvas_object.line(321, 592, 301, 592);\n",
       "alphabeta_viz_canvas_object.fill(0, 0, 0);\n",
       "alphabeta_viz_canvas_object.fill_text(\"39\", 303, 591);\n",
       "alphabeta_viz_canvas_object.fill(255, 255, 255);\n",
       "alphabeta_viz_canvas_object.rect(331, 578, 20, 15);\n",
       "alphabeta_viz_canvas_object.line(331, 578, 351, 578);\n",
       "alphabeta_viz_canvas_object.line(331, 578, 331, 592);\n",
       "alphabeta_viz_canvas_object.line(351, 592, 351, 578);\n",
       "alphabeta_viz_canvas_object.line(351, 592, 331, 592);\n",
       "alphabeta_viz_canvas_object.fill(0, 0, 0);\n",
       "alphabeta_viz_canvas_object.fill_text(\"23\", 333, 591);\n",
       "alphabeta_viz_canvas_object.fill(255, 255, 255);\n",
       "alphabeta_viz_canvas_object.rect(360, 578, 20, 15);\n",
       "alphabeta_viz_canvas_object.line(360, 578, 380, 578);\n",
       "alphabeta_viz_canvas_object.line(360, 578, 360, 592);\n",
       "alphabeta_viz_canvas_object.line(380, 592, 380, 578);\n",
       "alphabeta_viz_canvas_object.line(380, 592, 360, 592);\n",
       "alphabeta_viz_canvas_object.fill(0, 0, 0);\n",
       "alphabeta_viz_canvas_object.fill_text(\"2\", 362, 591);\n",
       "alphabeta_viz_canvas_object.fill(255, 255, 255);\n",
       "alphabeta_viz_canvas_object.rect(390, 578, 20, 15);\n",
       "alphabeta_viz_canvas_object.line(390, 578, 410, 578);\n",
       "alphabeta_viz_canvas_object.line(390, 578, 390, 592);\n",
       "alphabeta_viz_canvas_object.line(410, 592, 410, 578);\n",
       "alphabeta_viz_canvas_object.line(410, 592, 390, 592);\n",
       "alphabeta_viz_canvas_object.fill(0, 0, 0);\n",
       "alphabeta_viz_canvas_object.fill_text(\"23\", 392, 591);\n",
       "alphabeta_viz_canvas_object.fill(255, 255, 255);\n",
       "alphabeta_viz_canvas_object.rect(420, 578, 20, 15);\n",
       "alphabeta_viz_canvas_object.line(420, 578, 440, 578);\n",
       "alphabeta_viz_canvas_object.line(420, 578, 420, 592);\n",
       "alphabeta_viz_canvas_object.line(440, 592, 440, 578);\n",
       "alphabeta_viz_canvas_object.line(440, 592, 420, 592);\n",
       "alphabeta_viz_canvas_object.fill(0, 0, 0);\n",
       "alphabeta_viz_canvas_object.fill_text(\"25\", 422, 591);\n",
       "alphabeta_viz_canvas_object.fill(255, 255, 255);\n",
       "alphabeta_viz_canvas_object.rect(449, 578, 20, 15);\n",
       "alphabeta_viz_canvas_object.line(449, 578, 469, 578);\n",
       "alphabeta_viz_canvas_object.line(449, 578, 449, 592);\n",
       "alphabeta_viz_canvas_object.line(469, 592, 469, 578);\n",
       "alphabeta_viz_canvas_object.line(469, 592, 449, 592);\n",
       "alphabeta_viz_canvas_object.fill(0, 0, 0);\n",
       "alphabeta_viz_canvas_object.fill_text(\"36\", 451, 591);\n",
       "alphabeta_viz_canvas_object.fill(255, 255, 255);\n",
       "alphabeta_viz_canvas_object.rect(479, 578, 20, 15);\n",
       "alphabeta_viz_canvas_object.line(479, 578, 499, 578);\n",
       "alphabeta_viz_canvas_object.line(479, 578, 479, 592);\n",
       "alphabeta_viz_canvas_object.line(499, 592, 499, 578);\n",
       "alphabeta_viz_canvas_object.line(499, 592, 479, 592);\n",
       "alphabeta_viz_canvas_object.fill(0, 0, 0);\n",
       "alphabeta_viz_canvas_object.fill_text(\"36\", 481, 591);\n",
       "alphabeta_viz_canvas_object.fill(255, 255, 255);\n",
       "alphabeta_viz_canvas_object.rect(509, 578, 20, 15);\n",
       "alphabeta_viz_canvas_object.line(509, 578, 529, 578);\n",
       "alphabeta_viz_canvas_object.line(509, 578, 509, 592);\n",
       "alphabeta_viz_canvas_object.line(529, 592, 529, 578);\n",
       "alphabeta_viz_canvas_object.line(529, 592, 509, 592);\n",
       "alphabeta_viz_canvas_object.fill(0, 0, 0);\n",
       "alphabeta_viz_canvas_object.fill_text(\"27\", 511, 591);\n",
       "alphabeta_viz_canvas_object.fill(255, 255, 255);\n",
       "alphabeta_viz_canvas_object.rect(538, 578, 20, 15);\n",
       "alphabeta_viz_canvas_object.line(538, 578, 558, 578);\n",
       "alphabeta_viz_canvas_object.line(538, 578, 538, 592);\n",
       "alphabeta_viz_canvas_object.line(558, 592, 558, 578);\n",
       "alphabeta_viz_canvas_object.line(558, 592, 538, 592);\n",
       "alphabeta_viz_canvas_object.fill(0, 0, 0);\n",
       "alphabeta_viz_canvas_object.fill_text(\"2\", 540, 591);\n",
       "alphabeta_viz_canvas_object.fill(255, 255, 255);\n",
       "alphabeta_viz_canvas_object.rect(568, 578, 20, 15);\n",
       "alphabeta_viz_canvas_object.line(568, 578, 588, 578);\n",
       "alphabeta_viz_canvas_object.line(568, 578, 568, 592);\n",
       "alphabeta_viz_canvas_object.line(588, 592, 588, 578);\n",
       "alphabeta_viz_canvas_object.line(588, 592, 568, 592);\n",
       "alphabeta_viz_canvas_object.fill(0, 0, 0);\n",
       "alphabeta_viz_canvas_object.fill_text(\"11\", 570, 591);\n",
       "alphabeta_viz_canvas_object.fill(255, 255, 255);\n",
       "alphabeta_viz_canvas_object.rect(597, 578, 20, 15);\n",
       "alphabeta_viz_canvas_object.line(597, 578, 617, 578);\n",
       "alphabeta_viz_canvas_object.line(597, 578, 597, 592);\n",
       "alphabeta_viz_canvas_object.line(617, 592, 617, 578);\n",
       "alphabeta_viz_canvas_object.line(617, 592, 597, 592);\n",
       "alphabeta_viz_canvas_object.fill(0, 0, 0);\n",
       "alphabeta_viz_canvas_object.fill_text(\"16\", 599, 591);\n",
       "alphabeta_viz_canvas_object.fill(255, 255, 255);\n",
       "alphabeta_viz_canvas_object.rect(627, 578, 20, 15);\n",
       "alphabeta_viz_canvas_object.line(627, 578, 647, 578);\n",
       "alphabeta_viz_canvas_object.line(627, 578, 627, 592);\n",
       "alphabeta_viz_canvas_object.line(647, 592, 647, 578);\n",
       "alphabeta_viz_canvas_object.line(647, 592, 627, 592);\n",
       "alphabeta_viz_canvas_object.fill(0, 0, 0);\n",
       "alphabeta_viz_canvas_object.fill_text(\"32\", 629, 591);\n",
       "alphabeta_viz_canvas_object.fill(255, 255, 255);\n",
       "alphabeta_viz_canvas_object.rect(657, 578, 20, 15);\n",
       "alphabeta_viz_canvas_object.line(657, 578, 677, 578);\n",
       "alphabeta_viz_canvas_object.line(657, 578, 657, 592);\n",
       "alphabeta_viz_canvas_object.line(677, 592, 677, 578);\n",
       "alphabeta_viz_canvas_object.line(677, 592, 657, 592);\n",
       "alphabeta_viz_canvas_object.fill(0, 0, 0);\n",
       "alphabeta_viz_canvas_object.fill_text(\"49\", 659, 591);\n",
       "alphabeta_viz_canvas_object.fill(255, 255, 255);\n",
       "alphabeta_viz_canvas_object.rect(686, 578, 20, 15);\n",
       "alphabeta_viz_canvas_object.line(686, 578, 706, 578);\n",
       "alphabeta_viz_canvas_object.line(686, 578, 686, 592);\n",
       "alphabeta_viz_canvas_object.line(706, 592, 706, 578);\n",
       "alphabeta_viz_canvas_object.line(706, 592, 686, 592);\n",
       "alphabeta_viz_canvas_object.fill(0, 0, 0);\n",
       "alphabeta_viz_canvas_object.fill_text(\"36\", 688, 591);\n",
       "alphabeta_viz_canvas_object.fill(255, 255, 255);\n",
       "alphabeta_viz_canvas_object.rect(716, 578, 20, 15);\n",
       "alphabeta_viz_canvas_object.line(716, 578, 736, 578);\n",
       "alphabeta_viz_canvas_object.line(716, 578, 716, 592);\n",
       "alphabeta_viz_canvas_object.line(736, 592, 736, 578);\n",
       "alphabeta_viz_canvas_object.line(736, 592, 716, 592);\n",
       "alphabeta_viz_canvas_object.fill(0, 0, 0);\n",
       "alphabeta_viz_canvas_object.fill_text(\"33\", 718, 591);\n",
       "alphabeta_viz_canvas_object.fill(255, 255, 255);\n",
       "alphabeta_viz_canvas_object.rect(746, 578, 20, 15);\n",
       "alphabeta_viz_canvas_object.line(746, 578, 766, 578);\n",
       "alphabeta_viz_canvas_object.line(746, 578, 746, 592);\n",
       "alphabeta_viz_canvas_object.line(766, 592, 766, 578);\n",
       "alphabeta_viz_canvas_object.line(766, 592, 746, 592);\n",
       "alphabeta_viz_canvas_object.fill(0, 0, 0);\n",
       "alphabeta_viz_canvas_object.fill_text(\"49\", 748, 591);\n",
       "alphabeta_viz_canvas_object.fill(255, 255, 255);\n",
       "alphabeta_viz_canvas_object.rect(775, 578, 20, 15);\n",
       "alphabeta_viz_canvas_object.line(775, 578, 795, 578);\n",
       "alphabeta_viz_canvas_object.line(775, 578, 775, 592);\n",
       "alphabeta_viz_canvas_object.line(795, 592, 795, 578);\n",
       "alphabeta_viz_canvas_object.line(795, 592, 775, 592);\n",
       "alphabeta_viz_canvas_object.fill(0, 0, 0);\n",
       "alphabeta_viz_canvas_object.fill_text(\"21\", 777, 591);\n",
       "alphabeta_viz_canvas_object.stroke(0, 200, 0);\n",
       "alphabeta_viz_canvas_object.strokeWidth(1);\n",
       "alphabeta_viz_canvas_object.line(400, 38, 133, 208);\n",
       "alphabeta_viz_canvas_object.stroke(0, 200, 0);\n",
       "alphabeta_viz_canvas_object.strokeWidth(1);\n",
       "alphabeta_viz_canvas_object.line(400, 38, 400, 208);\n",
       "alphabeta_viz_canvas_object.stroke(0, 200, 0);\n",
       "alphabeta_viz_canvas_object.strokeWidth(1);\n",
       "alphabeta_viz_canvas_object.line(400, 38, 667, 208);\n",
       "alphabeta_viz_canvas_object.stroke(200, 0, 0);\n",
       "alphabeta_viz_canvas_object.strokeWidth(1);\n",
       "alphabeta_viz_canvas_object.line(133, 222, 44, 392);\n",
       "alphabeta_viz_canvas_object.stroke(200, 0, 0);\n",
       "alphabeta_viz_canvas_object.strokeWidth(1);\n",
       "alphabeta_viz_canvas_object.line(133, 222, 133, 392);\n",
       "alphabeta_viz_canvas_object.stroke(200, 0, 0);\n",
       "alphabeta_viz_canvas_object.strokeWidth(1);\n",
       "alphabeta_viz_canvas_object.line(133, 222, 222, 392);\n",
       "alphabeta_viz_canvas_object.stroke(200, 0, 0);\n",
       "alphabeta_viz_canvas_object.strokeWidth(1);\n",
       "alphabeta_viz_canvas_object.line(400, 222, 311, 392);\n",
       "alphabeta_viz_canvas_object.stroke(200, 0, 0);\n",
       "alphabeta_viz_canvas_object.strokeWidth(1);\n",
       "alphabeta_viz_canvas_object.line(400, 222, 400, 392);\n",
       "alphabeta_viz_canvas_object.stroke(200, 0, 0);\n",
       "alphabeta_viz_canvas_object.strokeWidth(1);\n",
       "alphabeta_viz_canvas_object.line(400, 222, 489, 392);\n",
       "alphabeta_viz_canvas_object.stroke(200, 0, 0);\n",
       "alphabeta_viz_canvas_object.strokeWidth(1);\n",
       "alphabeta_viz_canvas_object.line(667, 222, 578, 392);\n",
       "alphabeta_viz_canvas_object.stroke(200, 0, 0);\n",
       "alphabeta_viz_canvas_object.strokeWidth(1);\n",
       "alphabeta_viz_canvas_object.line(667, 222, 667, 392);\n",
       "alphabeta_viz_canvas_object.stroke(200, 0, 0);\n",
       "alphabeta_viz_canvas_object.strokeWidth(1);\n",
       "alphabeta_viz_canvas_object.line(667, 222, 756, 392);\n",
       "alphabeta_viz_canvas_object.stroke(0, 200, 0);\n",
       "alphabeta_viz_canvas_object.strokeWidth(1);\n",
       "alphabeta_viz_canvas_object.line(44, 408, 15, 578);\n",
       "alphabeta_viz_canvas_object.stroke(0, 200, 0);\n",
       "alphabeta_viz_canvas_object.strokeWidth(1);\n",
       "alphabeta_viz_canvas_object.line(44, 408, 44, 578);\n",
       "alphabeta_viz_canvas_object.stroke(0, 200, 0);\n",
       "alphabeta_viz_canvas_object.strokeWidth(1);\n",
       "alphabeta_viz_canvas_object.line(44, 408, 74, 578);\n",
       "alphabeta_viz_canvas_object.stroke(0, 200, 0);\n",
       "alphabeta_viz_canvas_object.strokeWidth(1);\n",
       "alphabeta_viz_canvas_object.line(133, 408, 104, 578);\n",
       "alphabeta_viz_canvas_object.stroke(0, 200, 0);\n",
       "alphabeta_viz_canvas_object.strokeWidth(1);\n",
       "alphabeta_viz_canvas_object.line(133, 408, 133, 578);\n",
       "alphabeta_viz_canvas_object.stroke(0, 200, 0);\n",
       "alphabeta_viz_canvas_object.strokeWidth(1);\n",
       "alphabeta_viz_canvas_object.line(133, 408, 163, 578);\n",
       "alphabeta_viz_canvas_object.stroke(0, 200, 0);\n",
       "alphabeta_viz_canvas_object.strokeWidth(1);\n",
       "alphabeta_viz_canvas_object.line(222, 408, 193, 578);\n",
       "alphabeta_viz_canvas_object.stroke(0, 200, 0);\n",
       "alphabeta_viz_canvas_object.strokeWidth(1);\n",
       "alphabeta_viz_canvas_object.line(222, 408, 222, 578);\n",
       "alphabeta_viz_canvas_object.stroke(0, 200, 0);\n",
       "alphabeta_viz_canvas_object.strokeWidth(1);\n",
       "alphabeta_viz_canvas_object.line(222, 408, 252, 578);\n",
       "alphabeta_viz_canvas_object.stroke(0, 200, 0);\n",
       "alphabeta_viz_canvas_object.strokeWidth(1);\n",
       "alphabeta_viz_canvas_object.line(311, 408, 281, 578);\n",
       "alphabeta_viz_canvas_object.stroke(0, 200, 0);\n",
       "alphabeta_viz_canvas_object.strokeWidth(1);\n",
       "alphabeta_viz_canvas_object.line(311, 408, 311, 578);\n",
       "alphabeta_viz_canvas_object.stroke(0, 200, 0);\n",
       "alphabeta_viz_canvas_object.strokeWidth(1);\n",
       "alphabeta_viz_canvas_object.line(311, 408, 341, 578);\n",
       "alphabeta_viz_canvas_object.stroke(0, 200, 0);\n",
       "alphabeta_viz_canvas_object.strokeWidth(1);\n",
       "alphabeta_viz_canvas_object.line(400, 408, 370, 578);\n",
       "alphabeta_viz_canvas_object.stroke(0, 200, 0);\n",
       "alphabeta_viz_canvas_object.strokeWidth(1);\n",
       "alphabeta_viz_canvas_object.line(400, 408, 400, 578);\n",
       "alphabeta_viz_canvas_object.stroke(0, 200, 0);\n",
       "alphabeta_viz_canvas_object.strokeWidth(1);\n",
       "alphabeta_viz_canvas_object.line(400, 408, 430, 578);\n",
       "alphabeta_viz_canvas_object.stroke(0, 200, 0);\n",
       "alphabeta_viz_canvas_object.strokeWidth(1);\n",
       "alphabeta_viz_canvas_object.line(489, 408, 459, 578);\n",
       "alphabeta_viz_canvas_object.stroke(0, 200, 0);\n",
       "alphabeta_viz_canvas_object.strokeWidth(1);\n",
       "alphabeta_viz_canvas_object.line(489, 408, 489, 578);\n",
       "alphabeta_viz_canvas_object.stroke(0, 200, 0);\n",
       "alphabeta_viz_canvas_object.strokeWidth(1);\n",
       "alphabeta_viz_canvas_object.line(489, 408, 519, 578);\n",
       "alphabeta_viz_canvas_object.stroke(0, 200, 0);\n",
       "alphabeta_viz_canvas_object.strokeWidth(1);\n",
       "alphabeta_viz_canvas_object.line(578, 408, 548, 578);\n",
       "alphabeta_viz_canvas_object.stroke(0, 200, 0);\n",
       "alphabeta_viz_canvas_object.strokeWidth(1);\n",
       "alphabeta_viz_canvas_object.line(578, 408, 578, 578);\n",
       "alphabeta_viz_canvas_object.stroke(0, 200, 0);\n",
       "alphabeta_viz_canvas_object.strokeWidth(1);\n",
       "alphabeta_viz_canvas_object.line(578, 408, 607, 578);\n",
       "alphabeta_viz_canvas_object.stroke(0, 200, 0);\n",
       "alphabeta_viz_canvas_object.strokeWidth(1);\n",
       "alphabeta_viz_canvas_object.line(667, 408, 637, 578);\n",
       "alphabeta_viz_canvas_object.stroke(0, 200, 0);\n",
       "alphabeta_viz_canvas_object.strokeWidth(1);\n",
       "alphabeta_viz_canvas_object.line(667, 408, 667, 578);\n",
       "alphabeta_viz_canvas_object.stroke(0, 200, 0);\n",
       "alphabeta_viz_canvas_object.strokeWidth(1);\n",
       "alphabeta_viz_canvas_object.line(667, 408, 696, 578);\n",
       "alphabeta_viz_canvas_object.stroke(0, 200, 0);\n",
       "alphabeta_viz_canvas_object.strokeWidth(1);\n",
       "alphabeta_viz_canvas_object.line(756, 408, 726, 578);\n",
       "alphabeta_viz_canvas_object.stroke(0, 200, 0);\n",
       "alphabeta_viz_canvas_object.strokeWidth(1);\n",
       "alphabeta_viz_canvas_object.line(756, 408, 756, 578);\n",
       "alphabeta_viz_canvas_object.stroke(0, 200, 0);\n",
       "alphabeta_viz_canvas_object.strokeWidth(1);\n",
       "alphabeta_viz_canvas_object.line(756, 408, 785, 578);\n",
       "</script>"
      ],
      "text/plain": [
       "<IPython.core.display.HTML object>"
      ]
     },
     "metadata": {},
     "output_type": "display_data"
    }
   ],
   "source": [
    "alphabeta_viz = Canvas_alphabeta('alphabeta_viz', [randint(1, 50) for i in range(27)])"
   ]
  },
  {
   "cell_type": "markdown",
   "metadata": {},
   "source": [
    "# ผู้เล่น (PLAYERS)\n",
    "\n",
    "ดังนั้น เราจึงจบการดำเนินงานของ class `TicTacToe` และ `Fig52Game` สิ่งที่ class เหล่านี้ทำคือการกำหนดกฎของเกม เราต้องการมากกว่านั้นเพื่อสร้าง AI ที่สามารถเล่นเกมได้จริง นี่คือจุดที่ `random_player` และ `alphabeta_player` เข้ามา\n",
    "\n",
    "## query_player\n",
    "ฟังก์ชัน `query_player` ช่วยให้คุณ คู่ต่อสู้มนุษย์ เล่นเกมได้ ฟังก์ชันนี้ต้องการ method `display` ที่จะถูกดำเนินการใน game class ของคุณ เพื่อให้สถานะเกมที่ต่อเนื่องกันสามารถแสดงบนเทอร์มินัล ทำให้ง่ายต่อการมองเห็นเกมและเล่นตามนั้น\n",
    "\n",
    "## random_player\n",
    "`random_player` เป็นฟังก์ชันที่เล่นการเดินแบบสุ่มในเกม นั่นคือทั้งหมด ไม่มีอะไรมากไปกว่านี้สำหรับตัวนี้\n",
    "\n",
    "## alphabeta_player\n",
    "`alphabeta_player` ในทางกลับกัน เรียกฟังก์ชัน `alphabeta_search` ซึ่งส่งคืนการเดินที่ดีที่สุดในสถานะเกมปัจจุบัน ดังนั้น `alphabeta_player` จึงเล่นการเดินที่ดีที่สุดเสมอเมื่อได้รับสถานะเกม สมมติว่าต้นไม้เกมมีขนาดเล็กพอที่จะค้นหาทั้งหมด\n",
    "\n",
    "## play_game\n",
    "ฟังก์ชัน `play_game` จะเป็นตัวที่จะถูกใช้จริงในการเล่นเกม คุณส่งอาร์กิวเมนต์ให้มันเป็นตัวอย่างของเกมที่คุณต้องการเล่นและผู้เล่นที่คุณต้องการในเกมนี้ ใช้มันเพื่อเล่น AI vs AI, AI vs มนุษย์ หรือแม้แต่มนุษย์ vs มนุษย์!"
   ]
  },
  {
   "cell_type": "markdown",
   "metadata": {},
   "source": [
    "# มาเล่นเกมกัน! (LET'S PLAY SOME GAMES!)\n",
    "\n",
    "## Game52\n",
    "\n",
    "มาเริ่มต้นด้วยการทดลองกับ `Fig52Game` ก่อน สำหรับนั้นเราจะสร้างตัวอย่างของ subclass Fig52Game ที่สืบทอดมาจาก class Game:"
   ]
  },
  {
   "cell_type": "code",
   "execution_count": 13,
   "metadata": {},
   "outputs": [],
   "source": [
    "game52 = Fig52Game()"
   ]
  },
  {
   "cell_type": "markdown",
   "metadata": {},
   "source": [
    "ก่อนอื่นเราลองใช้ `random_player(game, state)` ของเรา เมื่อได้รับสถานะเกม มันจะให้การเดินแบบสุ่มทุกครั้ง:"
   ]
  },
  {
   "cell_type": "code",
   "execution_count": 28,
   "metadata": {},
   "outputs": [
    {
     "name": "stdout",
     "output_type": "stream",
     "text": [
      "a1\n",
      "a3\n"
     ]
    }
   ],
   "source": [
    "print(random_player(game52, 'A'))\n",
    "print(random_player(game52, 'A'))"
   ]
  },
  {
   "cell_type": "markdown",
   "metadata": {},
   "source": [
    "`alphabeta_player(game, state)` จะให้การเดินที่ดีที่สุดที่เป็นไปได้เสมอ สำหรับผู้เล่นที่เกี่ยวข้อง (MAX หรือ MIN):"
   ]
  },
  {
   "cell_type": "code",
   "execution_count": 29,
   "metadata": {},
   "outputs": [
    {
     "name": "stdout",
     "output_type": "stream",
     "text": [
      "a1\n",
      "b1\n",
      "c1\n"
     ]
    }
   ],
   "source": [
    "print( alphabeta_player(game52, 'A') )\n",
    "print( alphabeta_player(game52, 'B') )\n",
    "print( alphabeta_player(game52, 'C') )"
   ]
  },
  {
   "cell_type": "markdown",
   "metadata": {},
   "source": [
    "สิ่งที่ `alphabeta_player` ทำคือ มันเรียก method `alphabeta_full_search` อย่างง่ายๆ ทั้งสองเป็นอย่างเดียวกันโดยพื้นฐาน ในโมดูล ทั้ง `alphabeta_full_search` และ `minimax_decision` ได้ถูกดำเนินการ ทั้งสองทำงานเดียวกันและส่งคืนสิ่งเดียวกัน ซึ่งคือการเดินที่ดีที่สุดในสถานะปัจจุบัน แค่ว่า `alphabeta_full_search` มีประสิทธิภาพมากกว่าในเรื่องเวลาเพราะมันตัดแต่งต้นไม้ค้นหาและด้วยเหตุนี้ สำรวจสถานะได้น้อยกว่า"
   ]
  },
  {
   "cell_type": "code",
   "execution_count": 30,
   "metadata": {},
   "outputs": [
    {
     "data": {
      "text/plain": [
       "'a1'"
      ]
     },
     "execution_count": 30,
     "metadata": {},
     "output_type": "execute_result"
    }
   ],
   "source": [
    "minimax_decision('A', game52)"
   ]
  },
  {
   "cell_type": "code",
   "execution_count": 31,
   "metadata": {},
   "outputs": [
    {
     "data": {
      "text/plain": [
       "'a1'"
      ]
     },
     "execution_count": 31,
     "metadata": {},
     "output_type": "execute_result"
    }
   ],
   "source": [
    "alphabeta_search('A', game52)"
   ]
  },
  {
   "cell_type": "markdown",
   "metadata": {},
   "source": [
    "สาธิตฟังก์ชัน play_game กับ game52:"
   ]
  },
  {
   "cell_type": "code",
   "execution_count": 32,
   "metadata": {},
   "outputs": [
    {
     "name": "stdout",
     "output_type": "stream",
     "text": [
      "B1\n"
     ]
    },
    {
     "data": {
      "text/plain": [
       "3"
      ]
     },
     "execution_count": 32,
     "metadata": {},
     "output_type": "execute_result"
    }
   ],
   "source": [
    "game52.play_game(alphabeta_player, alphabeta_player)"
   ]
  },
  {
   "cell_type": "code",
   "execution_count": 33,
   "metadata": {},
   "outputs": [
    {
     "name": "stdout",
     "output_type": "stream",
     "text": [
      "B2\n"
     ]
    },
    {
     "data": {
      "text/plain": [
       "12"
      ]
     },
     "execution_count": 33,
     "metadata": {},
     "output_type": "execute_result"
    }
   ],
   "source": [
    "game52.play_game(alphabeta_player, random_player)"
   ]
  },
  {
   "cell_type": "code",
   "execution_count": 34,
   "metadata": {},
   "outputs": [
    {
     "name": "stdout",
     "output_type": "stream",
     "text": [
      "current state:\n",
      "A\n",
      "available moves: ['a1', 'a2', 'a3']\n",
      "\n",
      "Your move? a1\n",
      "B1\n"
     ]
    },
    {
     "data": {
      "text/plain": [
       "3"
      ]
     },
     "execution_count": 34,
     "metadata": {},
     "output_type": "execute_result"
    }
   ],
   "source": [
    "game52.play_game(query_player, alphabeta_player)"
   ]
  },
  {
   "cell_type": "code",
   "execution_count": 35,
   "metadata": {},
   "outputs": [
    {
     "name": "stdout",
     "output_type": "stream",
     "text": [
      "current state:\n",
      "B\n",
      "available moves: ['b1', 'b2', 'b3']\n",
      "\n",
      "Your move? b1\n",
      "B1\n"
     ]
    },
    {
     "data": {
      "text/plain": [
       "3"
      ]
     },
     "execution_count": 35,
     "metadata": {},
     "output_type": "execute_result"
    }
   ],
   "source": [
    "game52.play_game(alphabeta_player, query_player)"
   ]
  },
  {
   "cell_type": "markdown",
   "metadata": {},
   "source": [
    "โปรดสังเกตว่าหากคุณเป็นผู้เล่นคนแรก alphabeta_player จะเล่นเป็น MIN และหากคุณเป็นผู้เล่นคนที่สอง alphabeta_player จะเล่นเป็น MAX นี่เกิดขึ้นเพราะนั่นคือวิธีที่เกมถูกกำหนดใน class Fig52Game การดูโค้ดของ class นี้ควรจะทำให้ชัดเจน"
   ]
  },
  {
   "cell_type": "markdown",
   "metadata": {},
   "source": [
    "## TicTacToe\n",
    "\n",
    "ตอนนี้มาเล่น `TicTacToe` ก่อนอื่นเราเริ่มต้นเกมโดยการสร้างตัวอย่างของ subclass TicTacToe ที่สืบทอดมาจาก class Game:"
   ]
  },
  {
   "cell_type": "code",
   "execution_count": 14,
   "metadata": {},
   "outputs": [],
   "source": [
    "ttt = TicTacToe()"
   ]
  },
  {
   "cell_type": "markdown",
   "metadata": {},
   "source": [
    "เราสามารถพิมพ์สถานะโดยใช้ method display:"
   ]
  },
  {
   "cell_type": "code",
   "execution_count": 15,
   "metadata": {},
   "outputs": [
    {
     "name": "stdout",
     "output_type": "stream",
     "text": [
      ". . . \n",
      ". . . \n",
      ". . . \n"
     ]
    }
   ],
   "source": [
    "ttt.display(ttt.initial)"
   ]
  },
  {
   "cell_type": "markdown",
   "metadata": {},
   "source": [
    "อืม นั่นคือสถานะเริ่มต้นของเกม ไม่มี X และไม่มี O\n",
    "\n",
    "มาสร้างสถานะเกมใหม่ด้วยตัวเราเองเพื่อทดลอง:"
   ]
  },
  {
   "cell_type": "code",
   "execution_count": 16,
   "metadata": {},
   "outputs": [],
   "source": [
    "my_state = GameState(\n",
    "    to_move = 'X',\n",
    "    utility = '0',\n",
    "    board = {(1,1): 'X', (1,2): 'O', (1,3): 'X',\n",
    "             (2,1): 'O',             (2,3): 'O',\n",
    "             (3,1): 'X',\n",
    "            },\n",
    "    moves = [(2,2), (3,2), (3,3)]\n",
    "    )"
   ]
  },
  {
   "cell_type": "markdown",
   "metadata": {},
   "source": [
    "แล้วสถานะเกมนี้มีลักษณะอย่างไร?"
   ]
  },
  {
   "cell_type": "code",
   "execution_count": 17,
   "metadata": {},
   "outputs": [
    {
     "name": "stdout",
     "output_type": "stream",
     "text": [
      "X O X \n",
      "O . O \n",
      "X . . \n"
     ]
    }
   ],
   "source": [
    "ttt.display(my_state)"
   ]
  },
  {
   "cell_type": "markdown",
   "metadata": {},
   "source": [
    "`random_player` จะทำตัวอย่างที่เขาควรจะเป็น กล่าวคือ *แบบสุ่มเทียม*:"
   ]
  },
  {
   "cell_type": "code",
   "execution_count": 18,
   "metadata": {},
   "outputs": [
    {
     "data": {
      "text/plain": [
       "(2, 2)"
      ]
     },
     "execution_count": 18,
     "metadata": {},
     "output_type": "execute_result"
    }
   ],
   "source": [
    "random_player(ttt, my_state)"
   ]
  },
  {
   "cell_type": "code",
   "execution_count": 19,
   "metadata": {},
   "outputs": [
    {
     "data": {
      "text/plain": [
       "(3, 3)"
      ]
     },
     "execution_count": 19,
     "metadata": {},
     "output_type": "execute_result"
    }
   ],
   "source": [
    "random_player(ttt, my_state)"
   ]
  },
  {
   "cell_type": "markdown",
   "metadata": {},
   "source": [
    "แต่ `alphabeta_player` จะให้การเดินที่ดีที่สุดเสมอ ตามที่คาดหวัง:"
   ]
  },
  {
   "cell_type": "code",
   "execution_count": 20,
   "metadata": {},
   "outputs": [
    {
     "data": {
      "text/plain": [
       "(2, 2)"
      ]
     },
     "execution_count": 20,
     "metadata": {},
     "output_type": "execute_result"
    }
   ],
   "source": [
    "alphabeta_player(ttt, my_state)"
   ]
  },
  {
   "cell_type": "markdown",
   "metadata": {},
   "source": [
    "ตอนนี้มาทำให้ผู้เล่นสองคนเล่นต่อกัน เราใช้ฟังก์ชัน `play_game` สำหรับสิ่งนี้ ฟังก์ชัน `play_game` ทำให้ผู้เล่นเล่นแมตช์ต่อกันและส่งคืนค่าประโยชน์สำหรับผู้เล่นแรกของสถานะสิ้นสุดที่ถึงเมื่อเกมจบ ดังนั้น สำหรับเกม `TicTacToe` ของเรา หากเราได้ผลลัพธ์ +1 ผู้เล่นคนแรกชนะ, -1 หากผู้เล่นคนที่สองชนะ และ 0 หากแมตช์จบลงด้วยการเสมอ"
   ]
  },
  {
   "cell_type": "code",
   "execution_count": 25,
   "metadata": {},
   "outputs": [
    {
     "name": "stdout",
     "output_type": "stream",
     "text": [
      "O O X \n",
      "X O . \n",
      "X X O \n"
     ]
    },
    {
     "data": {
      "text/plain": [
       "-1"
      ]
     },
     "execution_count": 25,
     "metadata": {},
     "output_type": "execute_result"
    }
   ],
   "source": [
    "ttt.play_game(random_player, alphabeta_player)"
   ]
  },
  {
   "cell_type": "markdown",
   "metadata": {},
   "source": [
    "ผลลัพธ์คือ (โดยปกติ) -1 เพราะ `random_player` แพ้ `alphabeta_player` อย่างไรก็ตาม บางครั้ง `random_player` สามารถเสมอกับ `alphabeta_player` ได้\n",
    "\n",
    "เนื่องจาก `alphabeta_player` เล่นอย่างสมบูรณ์แบบ แมตช์ระหว่าง `alphabeta_player` สองตัวควรจบลงด้วยการเสมอเสมอ มาดูว่าสิ่งนี้เกิดขึ้นหรือไม่:"
   ]
  },
  {
   "cell_type": "code",
   "execution_count": 26,
   "metadata": {},
   "outputs": [
    {
     "name": "stdout",
     "output_type": "stream",
     "text": [
      "X X O \n",
      "O O X \n",
      "X O X \n",
      "0\n",
      "X X O \n",
      "O O X \n",
      "X O X \n",
      "0\n",
      "X X O \n",
      "O O X \n",
      "X O X \n",
      "0\n",
      "X X O \n",
      "O O X \n",
      "X O X \n",
      "0\n",
      "X X O \n",
      "O O X \n",
      "X O X \n",
      "0\n",
      "X X O \n",
      "O O X \n",
      "X O X \n",
      "0\n",
      "X X O \n",
      "O O X \n",
      "X O X \n",
      "0\n",
      "X X O \n",
      "O O X \n",
      "X O X \n",
      "0\n",
      "X X O \n",
      "O O X \n",
      "X O X \n",
      "0\n",
      "X X O \n",
      "O O X \n",
      "X O X \n",
      "0\n"
     ]
    }
   ],
   "source": [
    "for _ in range(10):\n",
    "    print(ttt.play_game(alphabeta_player, alphabeta_player))"
   ]
  },
  {
   "cell_type": "markdown",
   "metadata": {},
   "source": [
    "`random_player` ไม่ควรชนะ `alphabeta_player` เลย มาทดสอบเรื่องนั้น"
   ]
  },
  {
   "cell_type": "code",
   "execution_count": 27,
   "metadata": {},
   "outputs": [
    {
     "name": "stdout",
     "output_type": "stream",
     "text": [
      ". . O \n",
      "X O . \n",
      "O X X \n",
      "-1\n",
      "O O O \n",
      ". X X \n",
      "O X X \n",
      "-1\n",
      "X O . \n",
      ". O . \n",
      "X O X \n",
      "-1\n",
      ". O . \n",
      ". O X \n",
      "X O X \n",
      "-1\n",
      "O X X \n",
      "O O X \n",
      "X . O \n",
      "-1\n",
      "O X O \n",
      "X O X \n",
      "X O X \n",
      "0\n",
      "X O X \n",
      "O O X \n",
      "X O . \n",
      "-1\n",
      "O O O \n",
      "X O X \n",
      "X . X \n",
      "-1\n",
      "O X X \n",
      "O X O \n",
      "O . X \n",
      "-1\n",
      "X O X \n",
      "X O X \n",
      "O O . \n",
      "-1\n"
     ]
    }
   ],
   "source": [
    "for _ in range(10):\n",
    "    print(ttt.play_game(random_player, alphabeta_player))"
   ]
  },
  {
   "cell_type": "markdown",
   "metadata": {},
   "source": [
    "## Canvas_TicTacToe(Canvas)\n",
    "\n",
    "subclass นี้ใช้เพื่อเล่นเกม TicTacToe แบบโต้ตอบใน Jupyter notebooks class TicTacToe ถูกเรียกขณะเริ่มต้น subclass นี้\n",
    "\n",
    "มาทำแมตช์ระหว่าง `random_player` และ `alphabeta_player` คลิกที่กระดานเพื่อเรียกผู้เล่นให้ทำการเดิน"
   ]
  },
  {
   "cell_type": "code",
   "execution_count": 28,
   "metadata": {},
   "outputs": [],
   "source": [
    "from notebook import Canvas_TicTacToe"
   ]
  },
  {
   "cell_type": "code",
   "execution_count": 29,
   "metadata": {},
   "outputs": [
    {
     "data": {
      "text/html": [
       "\n",
       "<script type=\"text/javascript\" src=\"./js/canvas.js\"></script>\n",
       "<div>\n",
       "<canvas id=\"bot_play\" width=\"300\" height=\"350\" style=\"background:rgba(158, 167, 184, 0.2);\" onclick='click_callback(this, event, \"bot_play\")'></canvas>\n",
       "</div>\n",
       "\n",
       "<script> var bot_play_canvas_object = new Canvas(\"bot_play\");</script>\n"
      ],
      "text/plain": [
       "<IPython.core.display.HTML object>"
      ]
     },
     "metadata": {},
     "output_type": "display_data"
    },
    {
     "data": {
      "text/html": [
       "<script>\n",
       "bot_play_canvas_object.strokeWidth(5);\n",
       "bot_play_canvas_object.font(\"20px Arial\");\n",
       "bot_play_canvas_object.clear();\n",
       "bot_play_canvas_object.stroke(0, 0, 0);\n",
       "bot_play_canvas_object.line(15, 100, 285, 100);\n",
       "bot_play_canvas_object.line(15, 200, 285, 200);\n",
       "bot_play_canvas_object.line(100, 15, 100, 285);\n",
       "bot_play_canvas_object.line(200, 15, 200, 285);\n",
       "bot_play_canvas_object.fill_text(\"Player X's move(random)\", 15, 318);\n",
       "</script>"
      ],
      "text/plain": [
       "<IPython.core.display.HTML object>"
      ]
     },
     "metadata": {},
     "output_type": "display_data"
    }
   ],
   "source": [
    "bot_play = Canvas_TicTacToe('bot_play', 'random', 'alphabeta')"
   ]
  },
  {
   "cell_type": "markdown",
   "metadata": {},
   "source": [
    "ตอนนี้ มาเล่นเกมด้วยตัวเราเองกับ `random_player`:"
   ]
  },
  {
   "cell_type": "code",
   "execution_count": 30,
   "metadata": {},
   "outputs": [
    {
     "data": {
      "text/html": [
       "\n",
       "<script type=\"text/javascript\" src=\"./js/canvas.js\"></script>\n",
       "<div>\n",
       "<canvas id=\"rand_play\" width=\"300\" height=\"350\" style=\"background:rgba(158, 167, 184, 0.2);\" onclick='click_callback(this, event, \"rand_play\")'></canvas>\n",
       "</div>\n",
       "\n",
       "<script> var rand_play_canvas_object = new Canvas(\"rand_play\");</script>\n"
      ],
      "text/plain": [
       "<IPython.core.display.HTML object>"
      ]
     },
     "metadata": {},
     "output_type": "display_data"
    },
    {
     "data": {
      "text/html": [
       "<script>\n",
       "rand_play_canvas_object.strokeWidth(5);\n",
       "rand_play_canvas_object.font(\"20px Arial\");\n",
       "rand_play_canvas_object.clear();\n",
       "rand_play_canvas_object.stroke(0, 0, 0);\n",
       "rand_play_canvas_object.line(15, 100, 285, 100);\n",
       "rand_play_canvas_object.line(15, 200, 285, 200);\n",
       "rand_play_canvas_object.line(100, 15, 100, 285);\n",
       "rand_play_canvas_object.line(200, 15, 200, 285);\n",
       "rand_play_canvas_object.fill_text(\"Player X's move(human)\", 15, 318);\n",
       "</script>"
      ],
      "text/plain": [
       "<IPython.core.display.HTML object>"
      ]
     },
     "metadata": {},
     "output_type": "display_data"
    }
   ],
   "source": [
    "rand_play = Canvas_TicTacToe('rand_play', 'human', 'random')"
   ]
  },
  {
   "cell_type": "markdown",
   "metadata": {},
   "source": [
    "ยี่ห้า! เรา (โดยปกติ) ชนะ แต่เราไม่สามารถชนะ `alphabeta_player` ได้ ไม่ว่าเราจะพยายามหนักแค่ไหน"
   ]
  },
  {
   "cell_type": "code",
   "execution_count": 31,
   "metadata": {},
   "outputs": [
    {
     "data": {
      "text/html": [
       "\n",
       "<script type=\"text/javascript\" src=\"./js/canvas.js\"></script>\n",
       "<div>\n",
       "<canvas id=\"ab_play\" width=\"300\" height=\"350\" style=\"background:rgba(158, 167, 184, 0.2);\" onclick='click_callback(this, event, \"ab_play\")'></canvas>\n",
       "</div>\n",
       "\n",
       "<script> var ab_play_canvas_object = new Canvas(\"ab_play\");</script>\n"
      ],
      "text/plain": [
       "<IPython.core.display.HTML object>"
      ]
     },
     "metadata": {},
     "output_type": "display_data"
    },
    {
     "data": {
      "text/html": [
       "<script>\n",
       "ab_play_canvas_object.strokeWidth(5);\n",
       "ab_play_canvas_object.font(\"20px Arial\");\n",
       "ab_play_canvas_object.clear();\n",
       "ab_play_canvas_object.stroke(0, 0, 0);\n",
       "ab_play_canvas_object.line(15, 100, 285, 100);\n",
       "ab_play_canvas_object.line(15, 200, 285, 200);\n",
       "ab_play_canvas_object.line(100, 15, 100, 285);\n",
       "ab_play_canvas_object.line(200, 15, 200, 285);\n",
       "ab_play_canvas_object.fill_text(\"Player X's move(human)\", 15, 318);\n",
       "</script>"
      ],
      "text/plain": [
       "<IPython.core.display.HTML object>"
      ]
     },
     "metadata": {},
     "output_type": "display_data"
    }
   ],
   "source": [
    "ab_play = Canvas_TicTacToe('ab_play', 'human', 'alphabeta')"
   ]
  },
  {
   "cell_type": "code",
   "execution_count": null,
   "metadata": {},
   "outputs": [],
   "source": []
  }
 ],
 "metadata": {
  "kernelspec": {
   "display_name": "sci193611",
   "language": "python",
   "name": "python3"
  },
  "language_info": {
   "codemirror_mode": {
    "name": "ipython",
    "version": 3
   },
   "file_extension": ".py",
   "mimetype": "text/x-python",
   "name": "python",
   "nbconvert_exporter": "python",
   "pygments_lexer": "ipython3",
   "version": "3.8.20"
  }
 },
 "nbformat": 4,
 "nbformat_minor": 1
}
